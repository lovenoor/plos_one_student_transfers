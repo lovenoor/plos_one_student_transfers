{
 "cells": [
  {
   "cell_type": "markdown",
   "metadata": {},
   "source": [
    "# Analysis of Major Shifts at the University of Washington"
   ]
  },
  {
   "cell_type": "markdown",
   "metadata": {},
   "source": [
    "Created by Lovenoor (Lavi) Aulck. Part of project examining persistence and performance of community college transfers. Published in PLOS One (currently under review - link will be added once published).  "
   ]
  },
  {
   "cell_type": "markdown",
   "metadata": {},
   "source": [
    "## Overview of notebook\n",
    "\n",
    "This notebook contains code to conduct an analysis of students' shifts in undergraduate majors using aggregated student data."
   ]
  },
  {
   "cell_type": "markdown",
   "metadata": {},
   "source": [
    "## Data format\n",
    "\n",
    "The notebook assumes input data in csv format in files named 'graduates.csv' and 'noncompletions.csv' with one entry per student and the following columns. These files are created in the associated analysis script (https://github.com/lovenoor/plos_one_student_transfers/blob/master/TransferStudentAnalysis.ipynb). In addition, a data file containing students' complete transcript records (including their academic major for each quarter/term) is also required in a .txt file named 'gpa.txt'"
   ]
  },
  {
   "cell_type": "markdown",
   "metadata": {},
   "source": [
    "### Import packages"
   ]
  },
  {
   "cell_type": "code",
   "execution_count": 1,
   "metadata": {
    "collapsed": false
   },
   "outputs": [],
   "source": [
    "import pandas as pd;\n",
    "import numpy as np;\n",
    "import matplotlib.pyplot as plt;\n",
    "import pylab;\n",
    "from matplotlib import rc;\n",
    "% matplotlib inline\n",
    "\n",
    "rc('font', family = 'Times New Roman')"
   ]
  },
  {
   "cell_type": "markdown",
   "metadata": {},
   "source": [
    "### Import data"
   ]
  },
  {
   "cell_type": "code",
   "execution_count": 2,
   "metadata": {
    "collapsed": false
   },
   "outputs": [],
   "source": [
    "dataGrad = pd.read_csv('graduates.csv', low_memory=False)\n",
    "dataNc = pd.read_csv('noncompletions.csv', low_memory=False)\n",
    "gpa = pd.read_table('gpa.txt')"
   ]
  },
  {
   "cell_type": "code",
   "execution_count": 3,
   "metadata": {
    "collapsed": false
   },
   "outputs": [],
   "source": [
    "gradsFr = dataGrad[dataGrad.last_schooling == 1].system_key.values\n",
    "grads2yr = dataGrad[dataGrad.last_schooling == 2].system_key.values\n",
    "grads4yr = dataGrad[dataGrad.last_schooling == 3].system_key.values"
   ]
  },
  {
   "cell_type": "code",
   "execution_count": 4,
   "metadata": {
    "collapsed": false
   },
   "outputs": [],
   "source": [
    "ncFr = dataNc[dataNc.last_schooling == 1].system_key.values\n",
    "nc2yr = dataNc[dataNc.last_schooling == 2].system_key.values\n",
    "nc4yr = dataNc[dataNc.last_schooling == 3].system_key.values"
   ]
  },
  {
   "cell_type": "markdown",
   "metadata": {},
   "source": [
    "### Filter transcript data"
   ]
  },
  {
   "cell_type": "code",
   "execution_count": 5,
   "metadata": {
    "collapsed": false
   },
   "outputs": [],
   "source": [
    "transInfo = gpa #hold the gpa variable (in case it needs to be referenced later)\n",
    "transInfo = transInfo[transInfo.system_key.isin(np.append(dataGrad.system_key, dataNc.system_key))] #use only students of interest\n",
    "#most of the below filtering is very much specific to the UW\n",
    "transInfo = transInfo[transInfo.course_number < 500] #look at only UG courses\n",
    "transInfo = transInfo[transInfo['class'] > 0] #look at only UGs\n",
    "transInfo = transInfo[transInfo['class'] < 5]\n",
    "transInfo = transInfo[transInfo.course_branch == 0] #look only at UW Seattle\n",
    "transInfo = transInfo[transInfo.grade_system != 9] #use only graded classes\n",
    "transInfo = transInfo[transInfo.tran_major_abbr != 'N MATR'] #do not use non-matriculated students"
   ]
  },
  {
   "cell_type": "markdown",
   "metadata": {},
   "source": [
    "### Create major groupings"
   ]
  },
  {
   "cell_type": "code",
   "execution_count": 6,
   "metadata": {
    "collapsed": false
   },
   "outputs": [],
   "source": [
    "transInfo = transInfo.sort_values(['tran_yr', 'tran_qtr'], ascending = [1, 1]) #sort data by date\n",
    "#create major groupings - major abbreviations are specific to UW. Majors are further grouped later.\n",
    "\n",
    "#business\n",
    "baReplaceList = ['FINANC', 'MKTG', 'I S', 'HRMGT', 'ACCTG', 'BUS E', 'ENTRE', 'PEI', 'CISB']\n",
    "#engineering\n",
    "engrReplaceList = ['A A', 'BIOEN', 'CHEM E', 'IND E', 'M E', 'E E', 'CIV E', 'HCDE', 'CER E', 'MS E', 'INT EN', 'MET E']\n",
    "#languages\n",
    "langReplaceList = ['GERMAN', 'SPAN', 'JAPAN', 'FRENCH', 'ITAL', 'DANISH', 'LATIN', 'KOREAN', 'GREEK', 'CHIN', 'NORW', \n",
    "                   'SWED', 'RUSS']\n",
    "#communications\n",
    "comReplaceList = ['LING', 'COM', 'CMU', 'CMU E', 'COM E', 'SP CMU', 'T C', 'ROM LI']\n",
    "#biology\n",
    "biolReplaceList = ['ZOOL', 'BOTANY', 'NBIO', 'MICRO', 'BIOL', 'SPHSC']\n",
    "#chemistry\n",
    "chemReplaceList = ['CHEM']\n",
    "#math\n",
    "mathReplaceList = ['ACMS', 'MATH', 'STAT']\n",
    "#physics\n",
    "physReplaceList = ['ASTR', 'PHYS']\n",
    "#political science\n",
    "polSciReplaceList = ['POL S', 'SOC WF', 'POLS E', 'LSJ', 'SO JU']\n",
    "#english\n",
    "engReplaceList = ['C LIT', 'ENGL E', 'ENGL']\n",
    "#international studies\n",
    "sisReplaceList = ['SISA', 'SISSA', 'SISJE', 'SISSA', 'SISCA', 'SISRE', 'SISSE', 'SISJA', 'SISKO', 'RELIG', 'SISLA', 'EURO',\n",
    "                 'NEAR E', 'SIS', 'EELLC', 'SCAND', 'SCAN A', 'ASIAN', 'SLAVIC', 'SASIAN']\n",
    "#history\n",
    "histReplaceList = ['CHID', 'HIST E', 'HIST', 'HPS']\n",
    "#general studies\n",
    "genStReplaceList = ['INDIV', 'GEN ST']\n",
    "#architecture\n",
    "archReplaceList = ['CAUP', 'L ARCH', 'ARCHST', 'CM', 'CEP']\n",
    "#health sciences\n",
    "healthReplaceList = ['NURS', 'ENV H', 'MED T', 'D HYG', 'HIHIME', 'PR O', 'HIA E', 'O T', 'PH']\n",
    "#education\n",
    "educReplaceList = ['ECFS']\n",
    "#philosophy\n",
    "philReplaceList = ['PHIL']\n",
    "#classics\n",
    "clasReplaceList = ['CLAS', 'CL ST']\n",
    "#forest resources\n",
    "forResReplaceList = ['FOR PP', 'FOR R', 'FOR EE', 'FOR E', 'SRS', 'UR FOR', 'F MGMT', 'EHUF', 'PSE', 'WLD S', 'CN WR']\n",
    "#environmental sciences\n",
    "envReplaceList = ['AFS', 'ATM S', 'BSE', 'ESS', 'ENVIR', 'ESRM', 'OCEAN', 'ENV S', 'FISH', 'GEOL']\n",
    "#computer science\n",
    "compSciReplaceList = ['CMP E', 'INFO', 'C SCI']\n",
    "#sociology\n",
    "socReplaceList = ['SOC', 'SOC E']\n",
    "#psychology\n",
    "psychReplaceList = ['PSYCH', 'PSY E']\n",
    "#anthropology\n",
    "anthReplaceList = ['ANTH', 'ANTH E']\n",
    "#american and women studies\n",
    "amerReplaceList = ['WOMEN', 'GWSS', 'AES', 'AIS', 'AFRAM']\n",
    "#art\n",
    "artReplaceList = ['ART H', 'ART', 'DXARTS']\n",
    "#performing arts\n",
    "perfArtReplaceList = ['MUSAP', 'DRAMA', 'MUSIC', 'DANCE', 'ETHNOM']\n",
    "#social welfare\n",
    "socWfReplaceList = ['SOC WF']\n",
    "#economics\n",
    "econReplaceList = ['ECON']"
   ]
  },
  {
   "cell_type": "code",
   "execution_count": 7,
   "metadata": {
    "collapsed": true
   },
   "outputs": [],
   "source": [
    "#the below are majors not of interest - premajors and majors at satellite campuses. Also, professional programs\n",
    "premajReplaceList = ['TPRMAJ', 'UWACAD', 'PMJ E', 'EXPBA', 'PREHUM', 'EPRMJ', 'PRENUR', 'PRESCI', 'EXPENG', 'PRE HS', \n",
    "                     'PRENGR', 'PSOCS', 'PREMAJ', 'PRE BA', 'PREART', 'PREARC', 'B PRE', 'PRE FE', 'BPRNUR', 'TPRCES',\n",
    "                    'PREFOR', 'PRE EH', 'TPREBA', 'TPRCSS', 'BPRCSS', 'PREPSE', 'EEP', 'PBUS E', 'EXPNUR', 'PREBSE']\n",
    "bothIasReplaceList = ['BISAMS', 'BISCP', 'BLSDBL', 'BISSTE', 'BLSAMS', 'BISCLA', 'BENSCI', 'BISGST', \n",
    "                     'BISSEB', 'BLSSEB', 'BLSSTE', 'BLSGST', 'BLSCLA', 'CSS']\n",
    "tacIasReplaceList = ['TGS', 'TESC', 'TPOLVA', 'TPOLEC', 'TSS', 'TGLBST', 'TIAS', 'TGLBST', 'TSS', 'TGLBST', 'TLSSS', 'TAMC',\n",
    "                    'TAM', ]\n",
    "medexReplaceList = ['MEDXC', 'MEDXD']"
   ]
  },
  {
   "cell_type": "code",
   "execution_count": 8,
   "metadata": {
    "collapsed": true
   },
   "outputs": [],
   "source": [
    "#parse through each major and get its grouping\n",
    "cleaned = []\n",
    "for each in transInfo.tran_major_abbr:\n",
    "    each = each.strip()\n",
    "    if each in baReplaceList:\n",
    "        each = 'B A'\n",
    "    elif each in engrReplaceList:\n",
    "        each = 'ENGR'\n",
    "    elif each in langReplaceList:\n",
    "        each = 'LANG'\n",
    "    elif each in comReplaceList:\n",
    "        each = 'COM'\n",
    "    elif each in biolReplaceList:\n",
    "        each = 'BIOL'\n",
    "    elif each in chemReplaceList:\n",
    "        each = 'CHEM'\n",
    "    elif each in physReplaceList:\n",
    "        each = 'PHYS'\n",
    "    elif each in mathReplaceList:\n",
    "        each = 'MATH'\n",
    "    elif each in polSciReplaceList:\n",
    "        each = 'POL S'\n",
    "    elif each in engReplaceList:\n",
    "        each = 'ENGL'\n",
    "    elif each in sisReplaceList:\n",
    "        each = 'INT ST'\n",
    "    elif each in histReplaceList:\n",
    "        each = 'HIST'\n",
    "    elif each in genStReplaceList:\n",
    "        each = 'GEN ST'\n",
    "    elif each in archReplaceList:\n",
    "        each = 'ARCH'\n",
    "    elif each in healthReplaceList:\n",
    "        each = 'BIOL'\n",
    "    elif each in educReplaceList:\n",
    "        each = 'EDUC'\n",
    "    elif each in amerReplaceList:\n",
    "        each = 'GWAS'\n",
    "    elif each in premajReplaceList:\n",
    "        each = 'PRE'\n",
    "    elif each in comReplaceList:\n",
    "        each = 'ENGL'\n",
    "    elif each in compSciReplaceList:\n",
    "        each = 'ENGR'\n",
    "    elif each in forResReplaceList:\n",
    "        each = 'ENVIR'\n",
    "    elif each in envReplaceList:\n",
    "        each = 'ENVIR'\n",
    "    elif each in socReplaceList:\n",
    "        each = 'SOC'\n",
    "    elif each in psychReplaceList:\n",
    "        each = 'PSYCH'\n",
    "    elif each in anthReplaceList:\n",
    "        each = 'ANTH'\n",
    "    elif each in artReplaceList:\n",
    "        each = 'ART'\n",
    "    elif each in perfArtReplaceList:\n",
    "        each = 'PART'\n",
    "    elif each in econReplaceList:\n",
    "        each = 'ECON'\n",
    "    elif each in philReplaceList:\n",
    "        each = 'PHIL'\n",
    "    elif each in clasReplaceList:\n",
    "        each = 'LANG'\n",
    "    elif each in medexReplaceList:\n",
    "        each = 'MEDX'\n",
    "    cleaned.append(each)"
   ]
  },
  {
   "cell_type": "code",
   "execution_count": 9,
   "metadata": {
    "collapsed": false
   },
   "outputs": [],
   "source": [
    "#remove duplicate student/major combos and further pruning - use only majors with an appreciable number of students\n",
    "transInfo['cleaned'] = pd.Series(cleaned, index = transInfo.index)\n",
    "majorCounts = transInfo.drop_duplicates(['system_key', 'cleaned'])\n",
    "majorCounts = majorCounts[majorCounts.cleaned != 'PRE']\n",
    "majorCounts = majorCounts[majorCounts.cleaned != 'EDUC']\n",
    "majorCounts = majorCounts[majorCounts.cleaned != 'DESIGN']\n",
    "majorCounts = majorCounts[majorCounts.cleaned != 'SOCS E']\n",
    "majorCounts = majorCounts[majorCounts.cleaned != 'HUM E']\n",
    "majorCounts = majorCounts[majorCounts.cleaned != 'MEDX']"
   ]
  },
  {
   "cell_type": "code",
   "execution_count": 10,
   "metadata": {
    "collapsed": false
   },
   "outputs": [],
   "source": [
    "#store data for each group - completions and non-completions\n",
    "majorCountsFrGrad = majorCounts[majorCounts.system_key.isin(gradsFr)]\n",
    "majorCounts2yrGrad = majorCounts[majorCounts.system_key.isin(grads2yr)]\n",
    "majorCounts4yrGrad = majorCounts[majorCounts.system_key.isin(grads4yr)]\n",
    "majorCountsFrNc = majorCounts[majorCounts.system_key.isin(ncFr)]\n",
    "majorCounts2yrNc = majorCounts[majorCounts.system_key.isin(nc2yr)]\n",
    "majorCounts4yrNc = majorCounts[majorCounts.system_key.isin(nc4yr)]"
   ]
  },
  {
   "cell_type": "code",
   "execution_count": 11,
   "metadata": {
    "collapsed": false
   },
   "outputs": [],
   "source": [
    "#tags associated with each major grouping used. These are used in the heatmap plotting\n",
    "labels = ['GEN ST', 'PART', 'ART', 'ENGL', 'COM', 'LANG', 'PHIL', 'PSYCH', 'SOC', 'ANTH', 'GEOG', 'HIST', 'GWAS', \n",
    "          'INT ST', 'POL S', 'B A', 'ECON', 'ARCH', 'ENVIR', 'ENGR', 'CHEM', 'BIOCHM', 'BIOL', 'PHYS', 'MATH']\n",
    "tags = ['General & Individualized Studies', 'Music & Performing Arts', 'Art & Art History', 'English & Comparative Lit.', \n",
    "        'Communication & Linguistics', 'Languages & Classics', 'Philosophy', 'Psychology', 'Sociology', 'Anthropology', \n",
    "        'Geography', 'History', 'Gender & American Studies', 'International Studies', 'Law & Political Science', 'Business', \n",
    "        'Economics', 'Architecture', 'Earth & Environmental Sci.', 'Engineering (All) & Comp. Sci.', \n",
    "        'Chemistry', 'Biochemistry', 'Biological & Health Sciences', 'Physics & Astronomy', 'Math & Statistics']"
   ]
  },
  {
   "cell_type": "markdown",
   "metadata": {},
   "source": [
    "### Calculate adjacency matrix for cleaned majors"
   ]
  },
  {
   "cell_type": "code",
   "execution_count": null,
   "metadata": {
    "collapsed": false
   },
   "outputs": [],
   "source": [
    "#initialize empty matrices for graduates\n",
    "matrixAllGrad = np.zeros((len(tags), len(tags)))\n",
    "matrixFrGrad = np.zeros((len(tags), len(tags)))\n",
    "matrix2yrGrad = np.zeros((len(tags), len(tags)))\n",
    "matrix4yrGrad = np.zeros((len(tags), len(tags)))\n",
    "\n",
    "#look at each student's data\n",
    "students = dataGrad.system_key\n",
    "for each in students:\n",
    "    subsetMat = np.zeros((len(tags), len(tags)))\n",
    "    currentDF = majorCounts[majorCounts.system_key == each]\n",
    "    majors = currentDF.cleaned\n",
    "    currentMajor = ''\n",
    "    #look at each major declared (previously filtered for duplicates)\n",
    "    for major in majors:\n",
    "        if currentMajor:\n",
    "            currentRow = labels.index(currentMajor)\n",
    "            currentCol = labels.index(major)\n",
    "            subsetMat[currentRow, currentCol] = 1 #add to appropriate row (previous major) and column (new major)\n",
    "            matrixAllGrad = matrixAllGrad + subsetMat #keep track for all graduates\n",
    "            if each in (gradsFr): #keep track for each group\n",
    "                matrixFrGrad = matrixFrGrad + subsetMat\n",
    "            elif each in (grads2yr):\n",
    "                matrix2yrGrad = matrix2yrGrad + subsetMat\n",
    "            elif each in (grads4yr):\n",
    "                matrix4yrGrad = matrix4yrGrad + subsetMat\n",
    "            else:\n",
    "                print (each)\n",
    "        currentMajor = major"
   ]
  },
  {
   "cell_type": "code",
   "execution_count": null,
   "metadata": {
    "collapsed": false
   },
   "outputs": [],
   "source": [
    "#repeat the above but for non-completions\n",
    "matrixAllNc = np.zeros((len(tags), len(tags)))\n",
    "matrixFrNc = np.zeros((len(tags), len(tags)))\n",
    "matrix2yrNc = np.zeros((len(tags), len(tags)))\n",
    "matrix4yrNc = np.zeros((len(tags), len(tags)))\n",
    "\n",
    "students = dataNc.system_key\n",
    "for each in students:\n",
    "    subsetMat = np.zeros((len(tags), len(tags)))\n",
    "    currentDF = majorCounts[majorCounts.system_key == each]\n",
    "    majors = currentDF.cleaned\n",
    "    currentMajor = ''\n",
    "    for major in majors:\n",
    "        if currentMajor:\n",
    "            currentRow = labels.index(currentMajor)\n",
    "            currentCol = labels.index(major)\n",
    "            subsetMat[currentRow, currentCol] = 1\n",
    "            matrixAllNc = matrixAllNc + subsetMat\n",
    "            if each in (ncFr):\n",
    "                matrixFrNc = matrixFrNc + subsetMat\n",
    "            elif each in (nc2yr):\n",
    "                matrix2yrNc = matrix2yrNc + subsetMat\n",
    "            elif each in (nc4yr):\n",
    "                matrix4yrNc = matrix4yrNc + subsetMat\n",
    "            else:\n",
    "                print (each)\n",
    "        currentMajor = major"
   ]
  },
  {
   "cell_type": "markdown",
   "metadata": {},
   "source": [
    "### Analyze results"
   ]
  },
  {
   "cell_type": "code",
   "execution_count": null,
   "metadata": {
    "collapsed": false
   },
   "outputs": [],
   "source": [
    "#calculate normalized values for all matrices based on row sums\n",
    "row_sums = matrixAllGrad.sum(axis=1)\n",
    "normAllGrad = matrixAllGrad / row_sums[:, np.newaxis]\n",
    "\n",
    "row_sums = matrixFrGrad.sum(axis=1)\n",
    "normFrGrad = matrixFrGrad / row_sums[:, np.newaxis]\n",
    "\n",
    "row_sums = matrix2yrGrad.sum(axis=1)\n",
    "norm2yrGrad = matrix2yrGrad / row_sums[:, np.newaxis]\n",
    "\n",
    "row_sums = matrix4yrGrad.sum(axis=1)\n",
    "norm4yrGrad = matrix4yrGrad / row_sums[:, np.newaxis]"
   ]
  },
  {
   "cell_type": "code",
   "execution_count": null,
   "metadata": {
    "collapsed": true
   },
   "outputs": [],
   "source": [
    "row_sums = matrixAllNc.sum(axis=1)\n",
    "normAllNc = matrixAllNc / row_sums[:, np.newaxis]\n",
    "\n",
    "row_sums = matrixFrNc.sum(axis=1)\n",
    "normFrNc = matrixFrNc / row_sums[:, np.newaxis]\n",
    "\n",
    "row_sums = matrix2yrNc.sum(axis=1)\n",
    "norm2yrNc = matrix2yrNc / row_sums[:, np.newaxis]\n",
    "\n",
    "row_sums = matrix4yrNc.sum(axis=1)\n",
    "norm4yrNc = matrix4yrNc / row_sums[:, np.newaxis]"
   ]
  },
  {
   "cell_type": "code",
   "execution_count": null,
   "metadata": {
    "collapsed": false
   },
   "outputs": [],
   "source": [
    "print np.sum(matrixAllGrad) #number of shifts for all grads and by group\n",
    "print np.sum(matrixFrGrad) \n",
    "print np.sum(matrix2yrGrad) \n",
    "print np.sum(matrix4yrGrad) \n",
    "print np.sum(matrixAllGrad) / len(dataGrad) #normalized counts per student for each group\n",
    "print np.sum(matrixFrGrad) / len(gradsFr)\n",
    "print np.sum(matrix2yrGrad) / len(grads2yr) \n",
    "print np.sum(matrix4yrGrad) / len(grads4yr)\n",
    "print np.sum(matrixAllGrad) / dataGrad.num_qtrs_tran.sum() * 100 #number of shifts per 100 quarters enrolled\n",
    "print np.sum(matrixFrGrad) / dataGrad[dataGrad.last_schooling == 1].num_qtrs_tran.sum() * 100 \n",
    "print np.sum(matrix2yrGrad) / dataGrad[dataGrad.last_schooling == 2].num_qtrs_tran.sum() * 100\n",
    "print np.sum(matrix4yrGrad) / dataGrad[dataGrad.last_schooling == 3].num_qtrs_tran.sum() * 100"
   ]
  },
  {
   "cell_type": "code",
   "execution_count": null,
   "metadata": {
    "collapsed": false
   },
   "outputs": [],
   "source": [
    "#print the same as above for non-completions\n",
    "print np.sum(matrixAllNc)\n",
    "print np.sum(matrixFrNc)\n",
    "print np.sum(matrix2yrNc)\n",
    "print np.sum(matrix4yrNc)\n",
    "print np.sum(matrixAllNc) / len(dataNc)\n",
    "print np.sum(matrixFrNc) / len(ncFr)\n",
    "print np.sum(matrix2yrNc) / len(nc2yr) \n",
    "print np.sum(matrix4yrNc) / len(nc4yr)\n",
    "print np.sum(matrixAllNc) / dataNc.num_qtrs_tran.sum() * 100\n",
    "print np.sum(matrixFrNc) /  dataNc[dataNc.last_schooling == 1].num_qtrs_tran.sum() * 100\n",
    "print np.sum(matrix2yrNc) / dataNc[dataNc.last_schooling == 2].num_qtrs_tran.sum() * 100\n",
    "print np.sum(matrix4yrNc) / dataNc[dataNc.last_schooling == 3].num_qtrs_tran.sum() * 100"
   ]
  },
  {
   "cell_type": "code",
   "execution_count": null,
   "metadata": {
    "collapsed": false
   },
   "outputs": [],
   "source": [
    "#look at inflow and outflow based on major and each group for grads\n",
    "sumsRatioAll = np.sum(matrixAllGrad, axis = 1) / np.sum(matrixAllGrad, axis = 0)\n",
    "sumsRatioFr = np.sum(matrixFrGrad, axis = 1) / np.sum(matrixFrGrad, axis = 0)\n",
    "sumsRatio2yr = np.sum(matrix2yrGrad, axis = 1) / np.sum(matrix2yrGrad, axis = 0)\n",
    "sumsRatio4yr = np.sum(matrix4yrGrad, axis = 1) / np.sum(matrix4yrGrad, axis = 0)\n",
    "sumRatiosGrad = pd.DataFrame({'All':sumsRatioAll}, index = tags)\n",
    "sumRatiosGrad['Fr'] = sumsRatioFr\n",
    "sumRatiosGrad['2yr'] = sumsRatio2yr\n",
    "sumRatiosGrad['4yr'] = sumsRatio4yr\n",
    "sumRatiosGrad"
   ]
  },
  {
   "cell_type": "code",
   "execution_count": null,
   "metadata": {
    "collapsed": false
   },
   "outputs": [],
   "source": [
    "#look at the same as above for non-completions\n",
    "sumsRatioAll = np.sum(matrixAllNc, axis = 1) / np.sum(matrixAllNc, axis = 0)\n",
    "sumsRatioFr = np.sum(matrixFrNc, axis = 1) / np.sum(matrixFrNc, axis = 0)\n",
    "sumsRatio2yr = np.sum(matrix2yrNc, axis = 1) / np.sum(matrix2yrNc, axis = 0)\n",
    "sumsRatio4yr = np.sum(matrix4yrNc, axis = 1) / np.sum(matrix4yrNc, axis = 0)\n",
    "sumRatiosNc = pd.DataFrame({'All':sumsRatioAll}, index = tags)\n",
    "sumRatiosNc['Fr'] = sumsRatioFr\n",
    "sumRatiosNc['2yr'] = sumsRatio2yr\n",
    "sumRatiosNc['4yr'] = sumsRatio4yr\n",
    "sumRatiosNc"
   ]
  },
  {
   "cell_type": "markdown",
   "metadata": {},
   "source": [
    "### Create heatmaps"
   ]
  },
  {
   "cell_type": "code",
   "execution_count": null,
   "metadata": {
    "collapsed": false,
    "scrolled": false
   },
   "outputs": [],
   "source": [
    "#get column sums for each major (for labels)\n",
    "sumsAllGrad = [str(int(x)) for x in np.sum(matrixAllGrad, axis = 1)]\n",
    "sumsFrGrad = [str(int(x)) for x in np.sum(matrixFrGrad, axis = 1)]\n",
    "sums2yrGrad = [str(int(x)) for x in np.sum(matrix2yrGrad, axis = 1)]\n",
    "sums4yrGrad = [str(int(x)) for x in np.sum(matrix4yrGrad, axis = 1)]\n",
    "\n",
    "#get row sums for each major (for labels)\n",
    "sumsAllColGrad = [str(int(x)) for x in np.sum(matrixAllGrad, axis = 0)]\n",
    "sumsFrColGrad = [str(int(x)) for x in np.sum(matrixFrGrad, axis = 0)]\n",
    "sums2yrColGrad = [str(int(x)) for x in np.sum(matrix2yrGrad, axis = 0)]\n",
    "sums4yrColGrad = [str(int(x)) for x in np.sum(matrix4yrGrad, axis = 0)]\n",
    "\n",
    "#create heatmap for all graduates. Repeat for all groups. Then repeat for non-completions.\n",
    "fig = pylab.figure(figsize=(8,8))\n",
    "axmatrix = fig.add_axes([0.325,0.075,0.6,0.6])\n",
    "idx1 = tags\n",
    "idx2 = tags\n",
    "im = axmatrix.matshow(normAllGrad, origin = 'upper', cmap = pylab.cm.Reds, vmax = 1)\n",
    "plt.xticks(range(0,len(tags)), [x + ' (N = ' + y + ')' for x,y in zip(tags, sumsAllColGrad)], rotation = 60, ha = 'left')\n",
    "plt.yticks(range(0,len(tags)), [x + ' (N = ' + y + ')' for x,y in zip(tags, sumsAllGrad)])\n",
    "axcolor = fig.add_axes([0.95,0.075,0.02,0.6])\n",
    "cbar = pylab.colorbar(im, cax = axcolor)\n",
    "cbar.ax.set_ylabel('Proportion of Field of Study Shifts', rotation = 270, labelpad = 20, fontsize = 'large')\n",
    "#fig.savefig('heatAll.svg', format='svg', dpi=1200)\n",
    "\n",
    "fig = pylab.figure(figsize=(8,8))\n",
    "axmatrix = fig.add_axes([0.325,0.075,0.6,0.6])\n",
    "idx1 = tags\n",
    "idx2 = tags\n",
    "im = axmatrix.matshow(normFrGrad, origin = 'upper', cmap = pylab.cm.Reds, vmax = 1)\n",
    "plt.xticks(range(0,len(tags)), [x + ' (N = ' + y + ')' for x,y in zip(tags, sumsFrColGrad)], rotation = 60, ha = 'left')\n",
    "plt.yticks(range(0,len(tags)), [x + ' (N = ' + y + ')' for x,y in zip(tags, sumsFrGrad)])\n",
    "axcolor = fig.add_axes([0.95,0.075,0.02,0.6])\n",
    "cbar = pylab.colorbar(im, cax = axcolor)\n",
    "cbar.ax.set_ylabel('Proportion of Field of Study Shifts', rotation = 270, labelpad = 20, fontsize = 'large')\n",
    "#fig.savefig('heatFr.svg', format='svg', dpi=1200)\n",
    "\n",
    "fig = pylab.figure(figsize=(8,8))\n",
    "axmatrix = fig.add_axes([0.325,0.075,0.6,0.6])\n",
    "idx1 = tags\n",
    "idx2 = tags\n",
    "im = axmatrix.matshow(norm2yrGrad, origin = 'upper', cmap = pylab.cm.Reds, vmax = 1)\n",
    "plt.xticks(range(0,len(tags)), [x + ' (N = ' + y + ')' for x,y in zip(tags, sums2yrColGrad)], rotation = 60, ha = 'left')\n",
    "plt.yticks(range(0,len(tags)), [x + ' (N = ' + y + ')' for x,y in zip(tags, sums2yrGrad)])\n",
    "axcolor = fig.add_axes([0.95,0.075,0.02,0.6])\n",
    "cbar = pylab.colorbar(im, cax = axcolor)\n",
    "cbar.ax.set_ylabel('Proportion of Field of Study Shifts', rotation = 270, labelpad = 20, fontsize = 'large')\n",
    "#fig.savefig('heat2yr.svg', format='svg', dpi=1200)\n",
    "\n",
    "fig = pylab.figure(figsize=(8,8))\n",
    "axmatrix = fig.add_axes([0.325,0.075,0.6,0.6])\n",
    "idx1 = tags\n",
    "idx2 = tags\n",
    "im = axmatrix.matshow(norm4yrGrad, origin = 'upper', cmap = pylab.cm.Reds, vmax = 1)\n",
    "plt.xticks(range(0,len(tags)), [x + ' (N = ' + y + ')' for x,y in zip(tags, sums4yrColGrad)], rotation = 60, ha = 'left')\n",
    "plt.yticks(range(0,len(tags)), [x + ' (N = ' + y + ')' for x,y in zip(tags, sums4yrGrad)])\n",
    "axcolor = fig.add_axes([0.95,0.075,0.02,0.6])\n",
    "cbar = pylab.colorbar(im, cax = axcolor)\n",
    "cbar.ax.set_ylabel('Proportion of Field of Study Shifts', rotation = 270, labelpad = 20, fontsize = 'large')\n",
    "#fig.savefig('heat4yr.svg', format='svg', dpi=1200)"
   ]
  },
  {
   "cell_type": "code",
   "execution_count": null,
   "metadata": {
    "collapsed": false,
    "scrolled": false
   },
   "outputs": [],
   "source": [
    "sumsAllNc = [str(int(x)) for x in np.sum(matrixAllNc, axis = 1)]\n",
    "sumsFrNc = [str(int(x)) for x in np.sum(matrixFrNc, axis = 1)]\n",
    "sums2yrNc = [str(int(x)) for x in np.sum(matrix2yrNc, axis = 1)]\n",
    "sums4yrNc = [str(int(x)) for x in np.sum(matrix4yrNc, axis = 1)]\n",
    " \n",
    "sumsAllColNc = [str(int(x)) for x in np.sum(matrixAllNc, axis = 0)]\n",
    "sumsFrColNc = [str(int(x)) for x in np.sum(matrixFrNc, axis = 0)]\n",
    "sums2yrColNc = [str(int(x)) for x in np.sum(matrix2yrNc, axis = 0)]\n",
    "sums4yrColNc = [str(int(x)) for x in np.sum(matrix4yrNc, axis = 0)]\n",
    "\n",
    "fig = pylab.figure(figsize=(8,8))\n",
    "axmatrix = fig.add_axes([0.325,0.075,0.6,0.6])\n",
    "idx1 = tags\n",
    "idx2 = tags\n",
    "im = axmatrix.matshow(normAllNc, origin = 'upper', cmap = pylab.cm.Reds, vmax = 1)\n",
    "plt.xticks(range(0,len(tags)), [x + ' (N = ' + y + ')' for x,y in zip(tags, sumsAllColNc)], rotation = 60, ha = 'left')\n",
    "plt.yticks(range(0,len(tags)), [x + ' (N = ' + y + ')' for x,y in zip(tags, sumsAllNc)])\n",
    "axcolor = fig.add_axes([0.95,0.075,0.02,0.6])\n",
    "cbar = pylab.colorbar(im, cax = axcolor)\n",
    "cbar.ax.set_ylabel('Proportion of Field of Study Shifts', rotation = 270, labelpad = 20, fontsize = 'large')\n",
    "#fig.savefig('heatAllNc.svg', format='svg', dpi=1200)\n",
    "\n",
    "fig = pylab.figure(figsize=(8,8))\n",
    "axmatrix = fig.add_axes([0.325,0.075,0.6,0.6])\n",
    "idx1 = tags\n",
    "idx2 = tags\n",
    "im = axmatrix.matshow(normFrNc, origin = 'upper', cmap = pylab.cm.Reds, vmax = 1)\n",
    "plt.xticks(range(0,len(tags)), [x + ' (N = ' + y + ')' for x,y in zip(tags, sumsFrColNc)], rotation = 60, ha = 'left')\n",
    "plt.yticks(range(0,len(tags)), [x + ' (N = ' + y + ')' for x,y in zip(tags, sumsFrNc)])\n",
    "axcolor = fig.add_axes([0.95,0.075,0.02,0.6])\n",
    "cbar = pylab.colorbar(im, cax = axcolor)\n",
    "cbar.ax.set_ylabel('Proportion of Field of Study Shifts', rotation = 270, labelpad = 20, fontsize = 'large')\n",
    "#fig.savefig('heatFrNc.svg', format='svg', dpi=1200)\n",
    "\n",
    "fig = pylab.figure(figsize=(8,8))\n",
    "axmatrix = fig.add_axes([0.325,0.075,0.6,0.6])\n",
    "idx1 = tags\n",
    "idx2 = tags\n",
    "im = axmatrix.matshow(norm2yrNc, origin = 'upper', cmap = pylab.cm.Reds, vmax = 1)\n",
    "plt.xticks(range(0,len(tags)), [x + ' (N = ' + y + ')' for x,y in zip(tags, sums2yrColNc)], rotation = 60, ha = 'left')\n",
    "plt.yticks(range(0,len(tags)), [x + ' (N = ' + y + ')' for x,y in zip(tags, sums2yrNc)])\n",
    "axcolor = fig.add_axes([0.95,0.075,0.02,0.6])\n",
    "cbar = pylab.colorbar(im, cax = axcolor)\n",
    "cbar.ax.set_ylabel('Proportion of Field of Study Shifts', rotation = 270, labelpad = 20, fontsize = 'large')\n",
    "#fig.savefig('heat2yrNc.svg', format='svg', dpi=1200)\n",
    "\n",
    "fig = pylab.figure(figsize=(8,8))\n",
    "axmatrix = fig.add_axes([0.325,0.075,0.6,0.6])\n",
    "idx1 = tags\n",
    "idx2 = tags\n",
    "im = axmatrix.matshow(norm4yrNc, origin = 'upper', cmap = pylab.cm.Reds, vmax = 1)\n",
    "plt.xticks(range(0,len(tags)), [x + ' (N = ' + y + ')' for x,y in zip(tags, sums4yrColNc)], rotation = 60, ha = 'left')\n",
    "plt.yticks(range(0,len(tags)), [x + ' (N = ' + y + ')' for x,y in zip(tags, sums4yrNc)])\n",
    "axcolor = fig.add_axes([0.95,0.075,0.02,0.6])\n",
    "cbar = pylab.colorbar(im, cax = axcolor)\n",
    "cbar.ax.set_ylabel('Proportion of Field of Study Shifts', rotation = 270, labelpad = 20, fontsize = 'large')\n",
    "#fig.savefig('heat4yrNc.svg', format='svg', dpi=1200)"
   ]
  }
 ],
 "metadata": {
  "kernelspec": {
   "display_name": "Python 2",
   "language": "python",
   "name": "python2"
  },
  "language_info": {
   "codemirror_mode": {
    "name": "ipython",
    "version": 2
   },
   "file_extension": ".py",
   "mimetype": "text/x-python",
   "name": "python",
   "nbconvert_exporter": "python",
   "pygments_lexer": "ipython2",
   "version": "2.7.11"
  }
 },
 "nbformat": 4,
 "nbformat_minor": 0
}
