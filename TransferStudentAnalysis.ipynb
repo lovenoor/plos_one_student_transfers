{
 "cells": [
  {
   "cell_type": "markdown",
   "metadata": {},
   "source": [
    "# Analysis of Transfer Students at the University of Washington"
   ]
  },
  {
   "cell_type": "markdown",
   "metadata": {},
   "source": [
    "Created by Lovenoor (Lavi) Aulck. Part of project examining persistence and performance of community college transfers. Published in PLOS One (currently under review - link will be added once published).  "
   ]
  },
  {
   "cell_type": "markdown",
   "metadata": {},
   "source": [
    "## Overview of notebook\n",
    "\n",
    "This notebook contains code to conduct an analysis of the persistence and performance of transfer students using aggregated student data."
   ]
  },
  {
   "cell_type": "markdown",
   "metadata": {},
   "source": [
    "## Data format\n",
    "\n",
    "The notebook assumes input data in a csv format in a file named 'data.csv' with one entry per student and the following columns:\n",
    "\n",
    "- system_key: a unique identifier for each student (numeric or string)\n",
    "- first_yr_tran: the student's first calendar year with a transcript grade (numeric)\n",
    "- first_qtr_tran: the student's first term with a calendar grade (assumes quarter system numbered 1-4 with 1 being the first quarter in the calendar year). Calculated as first year * 4 + first qtr. (numeric)\n",
    "- last_schooling: the student's previous institution prior to joining the university. 1 = high school; 2 = community college; 3 = other 4-year institution. (numeric)\n",
    "- trans_credits: number of credits transferred into the university by the student\n",
    "- graduated: a binary indicator of whether the student graduated from the university in good standing with an undergraduate degree\n",
    "- total_time_in_qtrs: the duration the student was enrolled in the university between their first and last quarters (in calendar quarters, not academic quarters). (numeric)\n",
    "- num_qtrs_tran: the number of quarters the student was enrolled in the university (in academic quarters, not calendar quarters). (numeric)\n",
    "- birth_yr: student's birth year. (numeric)\n",
    "- gender: student's gender. (string)\n",
    "- resident: student's resident status. All values < 3 represent state residents while all values >= 3 represent out-of state students. (numeric)\n",
    "- ethnic: student's ethnicity. (string)\n",
    "- hispanic: student's indentification as a hispanic student. (string)\n",
    "- satv: student's SAT verbal score (assumes a 0 score indicates missing). (numeric)\n",
    "- satm: student's SAT math score (assumes a 0 score indicates missing). (numeric)\n",
    "- act: student's ACT score (assumes a 0 score indicates missing). (numeric)"
   ]
  },
  {
   "cell_type": "markdown",
   "metadata": {},
   "source": [
    "### Import packages"
   ]
  },
  {
   "cell_type": "code",
   "execution_count": 1,
   "metadata": {
    "collapsed": false
   },
   "outputs": [
    {
     "name": "stdout",
     "output_type": "stream",
     "text": [
      "height has been deprecated.\n",
      "\n"
     ]
    }
   ],
   "source": [
    "#Only two packages are required to run this analysis, assuming the input data is formatted correctly\n",
    "import pandas as pd;\n",
    "import numpy as np;\n",
    "\n",
    "pd.set_option('display.height', 500) #change display of pandas for notebook\n",
    "pd.set_option('display.max_rows', 500)\n",
    "\n",
    "fileSave = False #whether to save files for major shift heatmaps"
   ]
  },
  {
   "cell_type": "markdown",
   "metadata": {},
   "source": [
    "### Import data"
   ]
  },
  {
   "cell_type": "code",
   "execution_count": 2,
   "metadata": {
    "collapsed": false
   },
   "outputs": [],
   "source": [
    "dataAll = pd.read_csv('data.csv', low_memory = False)\n",
    "dataAll = dataAll.set_index(dataAll['system_key'])"
   ]
  },
  {
   "cell_type": "code",
   "execution_count": 3,
   "metadata": {
    "collapsed": false
   },
   "outputs": [
    {
     "data": {
      "text/plain": [
       "69582"
      ]
     },
     "execution_count": 3,
     "metadata": {},
     "output_type": "execute_result"
    }
   ],
   "source": [
    "len(dataAll)"
   ]
  },
  {
   "cell_type": "markdown",
   "metadata": {},
   "source": [
    "### Take data of interest"
   ]
  },
  {
   "cell_type": "code",
   "execution_count": 4,
   "metadata": {
    "collapsed": false
   },
   "outputs": [],
   "source": [
    "dataPre2007 = dataAll[dataAll['first_qtr_tran'] > (1997 * 4)] #take only students who started within selected time frame\n",
    "dataPre2007 = dataPre2007[dataPre2007['first_qtr_tran'] < ((2007 * 4) + 1)]\n",
    "dataPre2007 = dataPre2007[dataPre2007.last_schooling < 4] #university has categorizations for previous schooling that number > 3\n",
    "dataPre2007 = dataPre2007[dataPre2007.last_schooling > 0]"
   ]
  },
  {
   "cell_type": "code",
   "execution_count": 5,
   "metadata": {
    "collapsed": false
   },
   "outputs": [
    {
     "data": {
      "text/plain": [
       "69118"
      ]
     },
     "execution_count": 5,
     "metadata": {},
     "output_type": "execute_result"
    }
   ],
   "source": [
    "len(dataPre2007)"
   ]
  },
  {
   "cell_type": "code",
   "execution_count": 6,
   "metadata": {
    "collapsed": false
   },
   "outputs": [
    {
     "data": {
      "text/plain": [
       "2000.0    8261\n",
       "2001.0    8209\n",
       "2006.0    8081\n",
       "1999.0    7941\n",
       "2002.0    7568\n",
       "2004.0    7461\n",
       "2003.0    7460\n",
       "2005.0    7354\n",
       "1998.0    7247\n",
       "Name: first_yr_tran, dtype: int64"
      ]
     },
     "execution_count": 6,
     "metadata": {},
     "output_type": "execute_result"
    }
   ],
   "source": [
    "dataAll.first_yr_tran.value_counts() #get counts of students by first year"
   ]
  },
  {
   "cell_type": "markdown",
   "metadata": {},
   "source": [
    "### Calculate time to grad"
   ]
  },
  {
   "cell_type": "code",
   "execution_count": 7,
   "metadata": {
    "collapsed": false
   },
   "outputs": [],
   "source": [
    "#university assumes 15 cr per quarter (with 12 cr per qtr considered full-time enrollment). This 15 credits is derived from\n",
    "#taking 180 credits (requirement for a bachelor's degree) and dividing by 12 (4 years of enrollment with 3 quarters per year;\n",
    "#students typically take the summer off). Window for successful graduation in this project is 6 calendar years.\n",
    "\n",
    "dataPre2007['qtrs_transferred'] = ((dataPre2007.trans_credits / 15).round(0)).fillna(0) #calculate number of quarters transferred\n",
    "dataPre2007['exp_grad_time'] = 24 - dataPre2007.qtrs_transferred #24 = 6 years * 4 qtrs per year. Exp_grad_time is adjusted time\n",
    "#to completion after accounting for transferred credits\n",
    "\n",
    "#check for graduation = student earned degree in less than 24 calendar quarters. trans_grad_on_time = student graduated on time\n",
    "dataPre2007['trans_grad_on_time'] = (dataPre2007.exp_grad_time >= (dataPre2007.total_time_in_qtrs)) & dataPre2007.graduated"
   ]
  },
  {
   "cell_type": "code",
   "execution_count": 8,
   "metadata": {
    "collapsed": true
   },
   "outputs": [],
   "source": [
    "#aggregate data across quarters for transfer shock calculations\n",
    "#credits for first two and first three quarters\n",
    "dataPre2007['first_two_qtr_cr'] = dataPre2007['first_qtr_cr'] + dataPre2007['sec_qtr_cr']\n",
    "dataPre2007['first_thr_qtr_cr'] = dataPre2007['first_two_qtr_cr'] + dataPre2007['trd_qtr_cr']\n",
    "\n",
    "#gpa for first two and first three quarters\n",
    "dataPre2007['first_two_qtr_gpa'] = dataPre2007['first_qtr_cr'] * dataPre2007['first_qtr_gpa']\n",
    "dataPre2007['first_two_qtr_gpa'] = dataPre2007['first_two_qtr_gpa'] + (dataPre2007['sec_qtr_cr'] * dataPre2007['sec_qtr_gpa'])\n",
    "dataPre2007['first_thr_qtr_gpa'] = dataPre2007['first_two_qtr_gpa'] + (dataPre2007['trd_qtr_cr'] * dataPre2007['trd_qtr_gpa'])\n",
    "\n",
    "dataPre2007['first_two_qtr_gpa'] = dataPre2007['first_two_qtr_gpa'] / dataPre2007['first_two_qtr_cr']\n",
    "dataPre2007['first_thr_qtr_gpa'] = dataPre2007['first_thr_qtr_gpa'] / dataPre2007['first_thr_qtr_cr']"
   ]
  },
  {
   "cell_type": "markdown",
   "metadata": {},
   "source": [
    "### Set up groupings"
   ]
  },
  {
   "cell_type": "code",
   "execution_count": 9,
   "metadata": {
    "collapsed": true
   },
   "outputs": [],
   "source": [
    "#change grouping names for more clean printing of results\n",
    "groups = {1: 'freshmen', 2: '2_yr_trans', 3: '4_yr_trans'}\n",
    "dataPre2007['group'] = dataPre2007.last_schooling.map(groups)"
   ]
  },
  {
   "cell_type": "code",
   "execution_count": 10,
   "metadata": {
    "collapsed": false
   },
   "outputs": [],
   "source": [
    "#two different column orders to be used when printing\n",
    "colOrder = groups.values()\n",
    "colOrder = np.append('total', colOrder)\n",
    "\n",
    "colOrder2 = groups.values()\n",
    "colOrder2 = np.append('all', colOrder2)"
   ]
  },
  {
   "cell_type": "markdown",
   "metadata": {},
   "source": [
    "### Group demographics\n",
    "\n",
    "As a first step, the below code looks at raw counts of students across demographic categories. It then calculates the percent composition of each group by demographic."
   ]
  },
  {
   "cell_type": "code",
   "execution_count": 11,
   "metadata": {
    "collapsed": false
   },
   "outputs": [],
   "source": [
    "groupCounts = dataPre2007.groupby(['group'])['group'].count() # raw counts of each group\n",
    "groupCounts.loc['total'] = groupCounts.sum()\n",
    "groupCounts = groupCounts.to_frame().transpose()[colOrder]\n",
    "groupCounts.index = ['all']"
   ]
  },
  {
   "cell_type": "code",
   "execution_count": 12,
   "metadata": {
    "collapsed": false
   },
   "outputs": [],
   "source": [
    "genderCounts = dataPre2007.groupby(['gender', 'group'])['group'].count() #counts of groups by gender\n",
    "genderCounts = genderCounts.unstack()\n",
    "genderCounts['total'] = dataPre2007.groupby(['gender'])['group'].count()\n",
    "genderCounts = genderCounts[colOrder]"
   ]
  },
  {
   "cell_type": "code",
   "execution_count": 13,
   "metadata": {
    "collapsed": false
   },
   "outputs": [],
   "source": [
    "genderPcts = genderCounts / np.sum(genderCounts) * 100 #to calculate percent. This process is repeated for each demo category"
   ]
  },
  {
   "cell_type": "code",
   "execution_count": 14,
   "metadata": {
    "collapsed": false
   },
   "outputs": [],
   "source": [
    "dataPre2007['resident_status'] = (dataPre2007.resident < 3).map({True: 'resident', False: 'non-resident'}) #map resident values\n",
    "#to a binary outcome - resident or non-resident"
   ]
  },
  {
   "cell_type": "code",
   "execution_count": 15,
   "metadata": {
    "collapsed": false
   },
   "outputs": [],
   "source": [
    "residentCounts = dataPre2007.groupby(['resident_status', 'group'])['group'].count() #counts of groups by resident status\n",
    "residentCounts = residentCounts.unstack()\n",
    "residentCounts['total'] = dataPre2007.groupby(['resident_status'])['group'].count()\n",
    "residentCounts = residentCounts[colOrder]"
   ]
  },
  {
   "cell_type": "code",
   "execution_count": 16,
   "metadata": {
    "collapsed": false
   },
   "outputs": [],
   "source": [
    "residentPcts = residentCounts / np.sum(residentCounts) * 100"
   ]
  },
  {
   "cell_type": "code",
   "execution_count": 17,
   "metadata": {
    "collapsed": false
   },
   "outputs": [],
   "source": [
    "ethnicCounts = dataPre2007.groupby(['ethnic', 'group'])['group'].count() #counts of groups by ethnicity\n",
    "ethnicCounts = ethnicCounts.unstack()\n",
    "ethnicCounts['total'] = dataPre2007.groupby(['ethnic'])['group'].count()\n",
    "ethnicCounts = ethnicCounts[colOrder]"
   ]
  },
  {
   "cell_type": "code",
   "execution_count": 18,
   "metadata": {
    "collapsed": false
   },
   "outputs": [],
   "source": [
    "ethnicPcts = ethnicCounts / np.sum(ethnicCounts) * 100"
   ]
  },
  {
   "cell_type": "code",
   "execution_count": 19,
   "metadata": {
    "collapsed": false
   },
   "outputs": [],
   "source": [
    "hispanicCounts = dataPre2007.groupby(['hispanic', 'group'])['group'].count() #counts of groups by hispanic identification\n",
    "hispanicCounts = hispanicCounts.unstack()\n",
    "hispanicCounts['total'] = dataPre2007.groupby(['hispanic'])['group'].count()\n",
    "hispanicCounts = hispanicCounts[colOrder]"
   ]
  },
  {
   "cell_type": "code",
   "execution_count": 20,
   "metadata": {
    "collapsed": false
   },
   "outputs": [],
   "source": [
    "hispanicPcts = hispanicCounts / np.sum(hispanicCounts) * 100"
   ]
  },
  {
   "cell_type": "code",
   "execution_count": 21,
   "metadata": {
    "collapsed": false
   },
   "outputs": [
    {
     "data": {
      "text/html": [
       "<div>\n",
       "<table border=\"1\" class=\"dataframe\">\n",
       "  <thead>\n",
       "    <tr style=\"text-align: right;\">\n",
       "      <th>group</th>\n",
       "      <th>total</th>\n",
       "      <th>freshmen</th>\n",
       "      <th>2_yr_trans</th>\n",
       "      <th>4_yr_trans</th>\n",
       "    </tr>\n",
       "  </thead>\n",
       "  <tbody>\n",
       "    <tr>\n",
       "      <th>all</th>\n",
       "      <td>69118</td>\n",
       "      <td>35855</td>\n",
       "      <td>17680</td>\n",
       "      <td>15583</td>\n",
       "    </tr>\n",
       "    <tr>\n",
       "      <th>F</th>\n",
       "      <td>36671</td>\n",
       "      <td>19074</td>\n",
       "      <td>9315</td>\n",
       "      <td>8282</td>\n",
       "    </tr>\n",
       "    <tr>\n",
       "      <th>M</th>\n",
       "      <td>32401</td>\n",
       "      <td>16758</td>\n",
       "      <td>8360</td>\n",
       "      <td>7283</td>\n",
       "    </tr>\n",
       "    <tr>\n",
       "      <th>U</th>\n",
       "      <td>46</td>\n",
       "      <td>23</td>\n",
       "      <td>5</td>\n",
       "      <td>18</td>\n",
       "    </tr>\n",
       "    <tr>\n",
       "      <th>AFRO-AM</th>\n",
       "      <td>2011</td>\n",
       "      <td>1017</td>\n",
       "      <td>534</td>\n",
       "      <td>460</td>\n",
       "    </tr>\n",
       "    <tr>\n",
       "      <th>AMER-IND</th>\n",
       "      <td>938</td>\n",
       "      <td>480</td>\n",
       "      <td>245</td>\n",
       "      <td>213</td>\n",
       "    </tr>\n",
       "    <tr>\n",
       "      <th>ASIAN</th>\n",
       "      <td>16037</td>\n",
       "      <td>9600</td>\n",
       "      <td>3067</td>\n",
       "      <td>3370</td>\n",
       "    </tr>\n",
       "    <tr>\n",
       "      <th>CAUCASN</th>\n",
       "      <td>39442</td>\n",
       "      <td>20123</td>\n",
       "      <td>10292</td>\n",
       "      <td>9027</td>\n",
       "    </tr>\n",
       "    <tr>\n",
       "      <th>HAW/PAC</th>\n",
       "      <td>448</td>\n",
       "      <td>265</td>\n",
       "      <td>85</td>\n",
       "      <td>98</td>\n",
       "    </tr>\n",
       "    <tr>\n",
       "      <th>NOT IND</th>\n",
       "      <td>10242</td>\n",
       "      <td>4370</td>\n",
       "      <td>3457</td>\n",
       "      <td>2415</td>\n",
       "    </tr>\n",
       "    <tr>\n",
       "      <th>HISPANIC</th>\n",
       "      <td>2981</td>\n",
       "      <td>1485</td>\n",
       "      <td>798</td>\n",
       "      <td>698</td>\n",
       "    </tr>\n",
       "    <tr>\n",
       "      <th>NOT IND</th>\n",
       "      <td>66137</td>\n",
       "      <td>34370</td>\n",
       "      <td>16882</td>\n",
       "      <td>14885</td>\n",
       "    </tr>\n",
       "    <tr>\n",
       "      <th>non-resident</th>\n",
       "      <td>7828</td>\n",
       "      <td>5345</td>\n",
       "      <td>1122</td>\n",
       "      <td>1361</td>\n",
       "    </tr>\n",
       "    <tr>\n",
       "      <th>resident</th>\n",
       "      <td>61290</td>\n",
       "      <td>30510</td>\n",
       "      <td>16558</td>\n",
       "      <td>14222</td>\n",
       "    </tr>\n",
       "  </tbody>\n",
       "</table>\n",
       "</div>"
      ],
      "text/plain": [
       "group         total  freshmen  2_yr_trans  4_yr_trans\n",
       "all           69118     35855       17680       15583\n",
       "F             36671     19074        9315        8282\n",
       "M             32401     16758        8360        7283\n",
       "U                46        23           5          18\n",
       "AFRO-AM        2011      1017         534         460\n",
       "AMER-IND        938       480         245         213\n",
       "ASIAN         16037      9600        3067        3370\n",
       "CAUCASN       39442     20123       10292        9027\n",
       "HAW/PAC         448       265          85          98\n",
       "NOT IND       10242      4370        3457        2415\n",
       "HISPANIC       2981      1485         798         698\n",
       "NOT IND       66137     34370       16882       14885\n",
       "non-resident   7828      5345        1122        1361\n",
       "resident      61290     30510       16558       14222"
      ]
     },
     "execution_count": 21,
     "metadata": {},
     "output_type": "execute_result"
    }
   ],
   "source": [
    "allCounts = groupCounts.append(genderCounts.append(ethnicCounts.append(hispanicCounts.append(residentCounts))))\n",
    "allCounts #merging counts together"
   ]
  },
  {
   "cell_type": "code",
   "execution_count": 22,
   "metadata": {
    "collapsed": false
   },
   "outputs": [
    {
     "data": {
      "text/html": [
       "<div>\n",
       "<table border=\"1\" class=\"dataframe\">\n",
       "  <thead>\n",
       "    <tr style=\"text-align: right;\">\n",
       "      <th>group</th>\n",
       "      <th>total</th>\n",
       "      <th>freshmen</th>\n",
       "      <th>2_yr_trans</th>\n",
       "      <th>4_yr_trans</th>\n",
       "    </tr>\n",
       "  </thead>\n",
       "  <tbody>\n",
       "    <tr>\n",
       "      <th>F</th>\n",
       "      <td>53.1</td>\n",
       "      <td>53.2</td>\n",
       "      <td>52.7</td>\n",
       "      <td>53.1</td>\n",
       "    </tr>\n",
       "    <tr>\n",
       "      <th>M</th>\n",
       "      <td>46.9</td>\n",
       "      <td>46.7</td>\n",
       "      <td>47.3</td>\n",
       "      <td>46.7</td>\n",
       "    </tr>\n",
       "    <tr>\n",
       "      <th>U</th>\n",
       "      <td>0.1</td>\n",
       "      <td>0.1</td>\n",
       "      <td>0.0</td>\n",
       "      <td>0.1</td>\n",
       "    </tr>\n",
       "    <tr>\n",
       "      <th>AFRO-AM</th>\n",
       "      <td>2.9</td>\n",
       "      <td>2.8</td>\n",
       "      <td>3.0</td>\n",
       "      <td>3.0</td>\n",
       "    </tr>\n",
       "    <tr>\n",
       "      <th>AMER-IND</th>\n",
       "      <td>1.4</td>\n",
       "      <td>1.3</td>\n",
       "      <td>1.4</td>\n",
       "      <td>1.4</td>\n",
       "    </tr>\n",
       "    <tr>\n",
       "      <th>ASIAN</th>\n",
       "      <td>23.2</td>\n",
       "      <td>26.8</td>\n",
       "      <td>17.3</td>\n",
       "      <td>21.6</td>\n",
       "    </tr>\n",
       "    <tr>\n",
       "      <th>CAUCASN</th>\n",
       "      <td>57.1</td>\n",
       "      <td>56.1</td>\n",
       "      <td>58.2</td>\n",
       "      <td>57.9</td>\n",
       "    </tr>\n",
       "    <tr>\n",
       "      <th>HAW/PAC</th>\n",
       "      <td>0.6</td>\n",
       "      <td>0.7</td>\n",
       "      <td>0.5</td>\n",
       "      <td>0.6</td>\n",
       "    </tr>\n",
       "    <tr>\n",
       "      <th>NOT IND</th>\n",
       "      <td>14.8</td>\n",
       "      <td>12.2</td>\n",
       "      <td>19.6</td>\n",
       "      <td>15.5</td>\n",
       "    </tr>\n",
       "    <tr>\n",
       "      <th>HISPANIC</th>\n",
       "      <td>4.3</td>\n",
       "      <td>4.1</td>\n",
       "      <td>4.5</td>\n",
       "      <td>4.5</td>\n",
       "    </tr>\n",
       "    <tr>\n",
       "      <th>NOT IND</th>\n",
       "      <td>95.7</td>\n",
       "      <td>95.9</td>\n",
       "      <td>95.5</td>\n",
       "      <td>95.5</td>\n",
       "    </tr>\n",
       "    <tr>\n",
       "      <th>non-resident</th>\n",
       "      <td>11.3</td>\n",
       "      <td>14.9</td>\n",
       "      <td>6.3</td>\n",
       "      <td>8.7</td>\n",
       "    </tr>\n",
       "    <tr>\n",
       "      <th>resident</th>\n",
       "      <td>88.7</td>\n",
       "      <td>85.1</td>\n",
       "      <td>93.7</td>\n",
       "      <td>91.3</td>\n",
       "    </tr>\n",
       "  </tbody>\n",
       "</table>\n",
       "</div>"
      ],
      "text/plain": [
       "group         total  freshmen  2_yr_trans  4_yr_trans\n",
       "F              53.1      53.2        52.7        53.1\n",
       "M              46.9      46.7        47.3        46.7\n",
       "U               0.1       0.1         0.0         0.1\n",
       "AFRO-AM         2.9       2.8         3.0         3.0\n",
       "AMER-IND        1.4       1.3         1.4         1.4\n",
       "ASIAN          23.2      26.8        17.3        21.6\n",
       "CAUCASN        57.1      56.1        58.2        57.9\n",
       "HAW/PAC         0.6       0.7         0.5         0.6\n",
       "NOT IND        14.8      12.2        19.6        15.5\n",
       "HISPANIC        4.3       4.1         4.5         4.5\n",
       "NOT IND        95.7      95.9        95.5        95.5\n",
       "non-resident   11.3      14.9         6.3         8.7\n",
       "resident       88.7      85.1        93.7        91.3"
      ]
     },
     "execution_count": 22,
     "metadata": {},
     "output_type": "execute_result"
    }
   ],
   "source": [
    "allPcts = genderPcts.append(ethnicPcts.append(hispanicPcts.append(residentPcts)))\n",
    "allPcts.round(1) #merging percents together; single decimal place"
   ]
  },
  {
   "cell_type": "markdown",
   "metadata": {},
   "source": [
    "### Look at ages and entrance exams\n",
    "\n",
    "Next, we look at ages and entrance exam scores of the entering students"
   ]
  },
  {
   "cell_type": "code",
   "execution_count": 23,
   "metadata": {
    "collapsed": true
   },
   "outputs": [],
   "source": [
    "dataPre2007['age_at_start'] = dataPre2007.first_yr_tran - dataPre2007.birth_yr #age at the start of time at university"
   ]
  },
  {
   "cell_type": "code",
   "execution_count": 24,
   "metadata": {
    "collapsed": false
   },
   "outputs": [
    {
     "data": {
      "text/html": [
       "<div>\n",
       "<table border=\"1\" class=\"dataframe\">\n",
       "  <thead>\n",
       "    <tr style=\"text-align: right;\">\n",
       "      <th></th>\n",
       "      <th>all</th>\n",
       "      <th>freshmen</th>\n",
       "      <th>2_yr_trans</th>\n",
       "      <th>4_yr_trans</th>\n",
       "    </tr>\n",
       "    <tr>\n",
       "      <th>age</th>\n",
       "      <th></th>\n",
       "      <th></th>\n",
       "      <th></th>\n",
       "      <th></th>\n",
       "    </tr>\n",
       "  </thead>\n",
       "  <tbody>\n",
       "    <tr>\n",
       "      <th>mean</th>\n",
       "      <td>20.41</td>\n",
       "      <td>18.37</td>\n",
       "      <td>23.98</td>\n",
       "      <td>21.05</td>\n",
       "    </tr>\n",
       "    <tr>\n",
       "      <th>std</th>\n",
       "      <td>4.44</td>\n",
       "      <td>0.70</td>\n",
       "      <td>5.75</td>\n",
       "      <td>4.93</td>\n",
       "    </tr>\n",
       "  </tbody>\n",
       "</table>\n",
       "</div>"
      ],
      "text/plain": [
       "        all  freshmen  2_yr_trans  4_yr_trans\n",
       "age                                          \n",
       "mean  20.41     18.37       23.98       21.05\n",
       "std    4.44      0.70        5.75        4.93"
      ]
     },
     "execution_count": 24,
     "metadata": {},
     "output_type": "execute_result"
    }
   ],
   "source": [
    "#first look at ages for all students\n",
    "hold = pd.DataFrame({'mean':dataPre2007.age_at_start.mean(), 'std':dataPre2007.age_at_start.std()}, index = ['all'])\n",
    "#then add ages of students by groups. Transposition orients dataframe in correct way\n",
    "agesAll = hold.append(dataPre2007.groupby(['group'])['age_at_start'].agg(['mean', 'std'])).transpose()\n",
    "agesAll = agesAll[colOrder2]\n",
    "agesAll.index.name = 'age'\n",
    "agesAll.round(2)"
   ]
  },
  {
   "cell_type": "code",
   "execution_count": 25,
   "metadata": {
    "collapsed": false
   },
   "outputs": [
    {
     "data": {
      "text/html": [
       "<div>\n",
       "<table border=\"1\" class=\"dataframe\">\n",
       "  <thead>\n",
       "    <tr style=\"text-align: right;\">\n",
       "      <th></th>\n",
       "      <th>all</th>\n",
       "      <th>freshmen</th>\n",
       "      <th>2_yr_trans</th>\n",
       "      <th>4_yr_trans</th>\n",
       "    </tr>\n",
       "    <tr>\n",
       "      <th>counts</th>\n",
       "      <th></th>\n",
       "      <th></th>\n",
       "      <th></th>\n",
       "      <th></th>\n",
       "    </tr>\n",
       "  </thead>\n",
       "  <tbody>\n",
       "    <tr>\n",
       "      <th>act</th>\n",
       "      <td>7748</td>\n",
       "      <td>4627</td>\n",
       "      <td>815</td>\n",
       "      <td>2306</td>\n",
       "    </tr>\n",
       "    <tr>\n",
       "      <th>sat</th>\n",
       "      <td>28067</td>\n",
       "      <td>16491</td>\n",
       "      <td>3127</td>\n",
       "      <td>8449</td>\n",
       "    </tr>\n",
       "  </tbody>\n",
       "</table>\n",
       "</div>"
      ],
      "text/plain": [
       "          all  freshmen  2_yr_trans  4_yr_trans\n",
       "counts                                         \n",
       "act      7748      4627         815        2306\n",
       "sat     28067     16491        3127        8449"
      ]
     },
     "execution_count": 25,
     "metadata": {},
     "output_type": "execute_result"
    }
   ],
   "source": [
    "#look at numbers of students who reported standardized test scores. 0 scores represent missing data\n",
    "satScores = dataPre2007[(dataPre2007.satv > 0) & (dataPre2007.satm > 0)][['satv', 'satm', 'group']]\n",
    "actScores = dataPre2007[dataPre2007.act > 0][['act', 'group']]\n",
    "\n",
    "hold = pd.DataFrame({'sat':len(satScores), 'act':len(actScores)}, index = ['all']) #groupby to get counts\n",
    "satCounts = satScores.groupby(['group'])['group'].count()\n",
    "actCounts = actScores.groupby(['group'])['group'].count()\n",
    "stdTestCounts = pd.DataFrame({'sat': satCounts, 'act': actCounts}).append(hold)\n",
    "\n",
    "stdTestCounts = stdTestCounts.transpose()[colOrder2] #reorganize results\n",
    "del stdTestCounts.columns.name\n",
    "stdTestCounts.index.name = 'counts'\n",
    "stdTestCounts"
   ]
  },
  {
   "cell_type": "code",
   "execution_count": 26,
   "metadata": {
    "collapsed": false
   },
   "outputs": [],
   "source": [
    "#then, look at scores at aggregate\n",
    "hold = pd.DataFrame({'mean':satScores.satv.mean(), 'std':satScores.satv.std()}, index = ['all'])\n",
    "satvAll = hold.append(satScores.groupby(['group'])['satv'].agg(['mean', 'std'])).transpose()[colOrder2]\n",
    "satvAll['test'] = 'satv'"
   ]
  },
  {
   "cell_type": "code",
   "execution_count": 27,
   "metadata": {
    "collapsed": false
   },
   "outputs": [],
   "source": [
    "hold = pd.DataFrame({'mean':satScores.satm.mean(), 'std':satScores.satm.std()}, index = ['all'])\n",
    "satmAll = hold.append(satScores.groupby(['group'])['satm'].agg(['mean', 'std'])).transpose()[colOrder2]\n",
    "satmAll['test'] = 'satm'"
   ]
  },
  {
   "cell_type": "code",
   "execution_count": 28,
   "metadata": {
    "collapsed": false
   },
   "outputs": [],
   "source": [
    "hold = pd.DataFrame({'mean':actScores.act.mean(), 'std':actScores.act.std()}, index = ['all'])\n",
    "actAll = hold.append(actScores.groupby(['group'])['act'].agg(['mean', 'std'])).transpose()[colOrder2]\n",
    "actAll['test'] = 'act'"
   ]
  },
  {
   "cell_type": "code",
   "execution_count": 29,
   "metadata": {
    "collapsed": false
   },
   "outputs": [
    {
     "data": {
      "text/html": [
       "<div>\n",
       "<table border=\"1\" class=\"dataframe\">\n",
       "  <thead>\n",
       "    <tr>\n",
       "      <th></th>\n",
       "      <th colspan=\"2\" halign=\"left\">all</th>\n",
       "      <th colspan=\"2\" halign=\"left\">freshmen</th>\n",
       "      <th colspan=\"2\" halign=\"left\">2_yr_trans</th>\n",
       "      <th colspan=\"2\" halign=\"left\">4_yr_trans</th>\n",
       "    </tr>\n",
       "    <tr>\n",
       "      <th>measure</th>\n",
       "      <th>mean</th>\n",
       "      <th>std</th>\n",
       "      <th>mean</th>\n",
       "      <th>std</th>\n",
       "      <th>mean</th>\n",
       "      <th>std</th>\n",
       "      <th>mean</th>\n",
       "      <th>std</th>\n",
       "    </tr>\n",
       "    <tr>\n",
       "      <th>test</th>\n",
       "      <th></th>\n",
       "      <th></th>\n",
       "      <th></th>\n",
       "      <th></th>\n",
       "      <th></th>\n",
       "      <th></th>\n",
       "      <th></th>\n",
       "      <th></th>\n",
       "    </tr>\n",
       "  </thead>\n",
       "  <tbody>\n",
       "    <tr>\n",
       "      <th>act</th>\n",
       "      <td>25.19</td>\n",
       "      <td>4.21</td>\n",
       "      <td>25.38</td>\n",
       "      <td>4.15</td>\n",
       "      <td>23.45</td>\n",
       "      <td>4.31</td>\n",
       "      <td>25.42</td>\n",
       "      <td>4.15</td>\n",
       "    </tr>\n",
       "    <tr>\n",
       "      <th>satm</th>\n",
       "      <td>600.17</td>\n",
       "      <td>88.11</td>\n",
       "      <td>605.82</td>\n",
       "      <td>85.35</td>\n",
       "      <td>557.94</td>\n",
       "      <td>89.29</td>\n",
       "      <td>604.77</td>\n",
       "      <td>88.78</td>\n",
       "    </tr>\n",
       "    <tr>\n",
       "      <th>satv</th>\n",
       "      <td>576.11</td>\n",
       "      <td>94.01</td>\n",
       "      <td>577.76</td>\n",
       "      <td>91.74</td>\n",
       "      <td>548.23</td>\n",
       "      <td>99.35</td>\n",
       "      <td>583.21</td>\n",
       "      <td>94.54</td>\n",
       "    </tr>\n",
       "  </tbody>\n",
       "</table>\n",
       "</div>"
      ],
      "text/plain": [
       "            all        freshmen        2_yr_trans        4_yr_trans       \n",
       "measure    mean    std     mean    std       mean    std       mean    std\n",
       "test                                                                      \n",
       "act       25.19   4.21    25.38   4.15      23.45   4.31      25.42   4.15\n",
       "satm     600.17  88.11   605.82  85.35     557.94  89.29     604.77  88.78\n",
       "satv     576.11  94.01   577.76  91.74     548.23  99.35     583.21  94.54"
      ]
     },
     "execution_count": 29,
     "metadata": {},
     "output_type": "execute_result"
    }
   ],
   "source": [
    "standTests = satvAll.append(satmAll.append(actAll))\n",
    "standTests.index.name = 'measure'\n",
    "standTests.set_index('test', append = True, inplace = True)\n",
    "standTests = standTests.reorder_levels(['test', 'measure'])\n",
    "standTests.round(2).unstack()"
   ]
  },
  {
   "cell_type": "markdown",
   "metadata": {},
   "source": [
    "### Find grad info\n",
    "\n",
    "Next, we look at graduation rates among demographic groups."
   ]
  },
  {
   "cell_type": "code",
   "execution_count": 30,
   "metadata": {
    "collapsed": false
   },
   "outputs": [],
   "source": [
    "gradData6yr = dataPre2007[dataPre2007['trans_grad_on_time']] #graduates within 6 years\n",
    "ncData = dataPre2007[~dataPre2007['trans_grad_on_time']] #non-completions"
   ]
  },
  {
   "cell_type": "code",
   "execution_count": 31,
   "metadata": {
    "collapsed": true
   },
   "outputs": [],
   "source": [
    "if fileSave: #saves graduates and noncompletions to file (for use in generating major-shift heatmaps)\n",
    "    gradData6yr.to_csv('graduates.csv')\n",
    "    ncData.to_csv('noncompletions.csv')"
   ]
  },
  {
   "cell_type": "code",
   "execution_count": 32,
   "metadata": {
    "collapsed": false
   },
   "outputs": [],
   "source": [
    "#the below is very much similar to the above with demographic only using just graduates\n",
    "groupCountsGrad = gradData6yr.groupby(['group'])['group'].count()\n",
    "groupCountsGrad.loc['total'] = groupCountsGrad.sum()\n",
    "groupCountsGrad = groupCountsGrad.to_frame().transpose()[colOrder]\n",
    "groupCountsGrad.index = ['all']"
   ]
  },
  {
   "cell_type": "code",
   "execution_count": 33,
   "metadata": {
    "collapsed": false
   },
   "outputs": [],
   "source": [
    "genderCountsGrad = gradData6yr.groupby(['gender', 'group'])['group'].count()\n",
    "genderCountsGrad = genderCountsGrad.unstack()\n",
    "genderCountsGrad['total'] = gradData6yr.groupby(['gender'])['group'].count()\n",
    "genderCountsGrad = genderCountsGrad[colOrder]"
   ]
  },
  {
   "cell_type": "code",
   "execution_count": 34,
   "metadata": {
    "collapsed": false
   },
   "outputs": [],
   "source": [
    "residentCountsGrad = gradData6yr.groupby(['resident_status', 'group'])['group'].count()\n",
    "residentCountsGrad = residentCountsGrad.unstack()\n",
    "residentCountsGrad['total'] = gradData6yr.groupby(['resident_status'])['group'].count()\n",
    "residentCountsGrad = residentCountsGrad[colOrder]"
   ]
  },
  {
   "cell_type": "code",
   "execution_count": 35,
   "metadata": {
    "collapsed": false
   },
   "outputs": [],
   "source": [
    "ethnicCountsGrad = gradData6yr.groupby(['ethnic', 'group'])['group'].count()\n",
    "ethnicCountsGrad = ethnicCountsGrad.unstack()\n",
    "ethnicCountsGrad['total'] = gradData6yr.groupby(['ethnic'])['group'].count()\n",
    "ethnicCountsGrad = ethnicCountsGrad[colOrder]"
   ]
  },
  {
   "cell_type": "code",
   "execution_count": 36,
   "metadata": {
    "collapsed": false
   },
   "outputs": [],
   "source": [
    "hispanicCountsGrad = gradData6yr.groupby(['hispanic', 'group'])['group'].count()\n",
    "hispanicCountsGrad = hispanicCountsGrad.unstack()\n",
    "hispanicCountsGrad['total'] = gradData6yr.groupby(['hispanic'])['group'].count()\n",
    "hispanicCountsGrad = hispanicCountsGrad[colOrder]"
   ]
  },
  {
   "cell_type": "code",
   "execution_count": 37,
   "metadata": {
    "collapsed": false
   },
   "outputs": [
    {
     "data": {
      "text/html": [
       "<div>\n",
       "<table border=\"1\" class=\"dataframe\">\n",
       "  <thead>\n",
       "    <tr style=\"text-align: right;\">\n",
       "      <th>group</th>\n",
       "      <th>total</th>\n",
       "      <th>freshmen</th>\n",
       "      <th>2_yr_trans</th>\n",
       "      <th>4_yr_trans</th>\n",
       "    </tr>\n",
       "  </thead>\n",
       "  <tbody>\n",
       "    <tr>\n",
       "      <th>all</th>\n",
       "      <td>23.5</td>\n",
       "      <td>20.9</td>\n",
       "      <td>23.5</td>\n",
       "      <td>29.6</td>\n",
       "    </tr>\n",
       "    <tr>\n",
       "      <th>F</th>\n",
       "      <td>22.2</td>\n",
       "      <td>20.2</td>\n",
       "      <td>23.1</td>\n",
       "      <td>25.8</td>\n",
       "    </tr>\n",
       "    <tr>\n",
       "      <th>M</th>\n",
       "      <td>25.1</td>\n",
       "      <td>21.7</td>\n",
       "      <td>24.1</td>\n",
       "      <td>34.0</td>\n",
       "    </tr>\n",
       "    <tr>\n",
       "      <th>U</th>\n",
       "      <td>13.0</td>\n",
       "      <td>8.7</td>\n",
       "      <td>0.0</td>\n",
       "      <td>22.2</td>\n",
       "    </tr>\n",
       "    <tr>\n",
       "      <th>AFRO-AM</th>\n",
       "      <td>31.9</td>\n",
       "      <td>29.0</td>\n",
       "      <td>29.4</td>\n",
       "      <td>41.3</td>\n",
       "    </tr>\n",
       "    <tr>\n",
       "      <th>AMER-IND</th>\n",
       "      <td>34.3</td>\n",
       "      <td>34.0</td>\n",
       "      <td>29.0</td>\n",
       "      <td>41.3</td>\n",
       "    </tr>\n",
       "    <tr>\n",
       "      <th>ASIAN</th>\n",
       "      <td>22.3</td>\n",
       "      <td>17.9</td>\n",
       "      <td>25.6</td>\n",
       "      <td>31.8</td>\n",
       "    </tr>\n",
       "    <tr>\n",
       "      <th>CAUCASN</th>\n",
       "      <td>23.2</td>\n",
       "      <td>21.1</td>\n",
       "      <td>23.4</td>\n",
       "      <td>27.7</td>\n",
       "    </tr>\n",
       "    <tr>\n",
       "      <th>HAW/PAC</th>\n",
       "      <td>31.7</td>\n",
       "      <td>31.7</td>\n",
       "      <td>29.4</td>\n",
       "      <td>33.7</td>\n",
       "    </tr>\n",
       "    <tr>\n",
       "      <th>NOT IND</th>\n",
       "      <td>23.8</td>\n",
       "      <td>22.7</td>\n",
       "      <td>20.7</td>\n",
       "      <td>30.3</td>\n",
       "    </tr>\n",
       "    <tr>\n",
       "      <th>HISPANIC</th>\n",
       "      <td>27.5</td>\n",
       "      <td>26.3</td>\n",
       "      <td>25.6</td>\n",
       "      <td>32.5</td>\n",
       "    </tr>\n",
       "    <tr>\n",
       "      <th>NOT IND</th>\n",
       "      <td>23.4</td>\n",
       "      <td>20.7</td>\n",
       "      <td>23.4</td>\n",
       "      <td>29.5</td>\n",
       "    </tr>\n",
       "    <tr>\n",
       "      <th>non-resident</th>\n",
       "      <td>27.7</td>\n",
       "      <td>29.9</td>\n",
       "      <td>16.1</td>\n",
       "      <td>28.5</td>\n",
       "    </tr>\n",
       "    <tr>\n",
       "      <th>resident</th>\n",
       "      <td>23.0</td>\n",
       "      <td>19.3</td>\n",
       "      <td>24.0</td>\n",
       "      <td>29.7</td>\n",
       "    </tr>\n",
       "  </tbody>\n",
       "</table>\n",
       "</div>"
      ],
      "text/plain": [
       "group         total  freshmen  2_yr_trans  4_yr_trans\n",
       "all            23.5      20.9        23.5        29.6\n",
       "F              22.2      20.2        23.1        25.8\n",
       "M              25.1      21.7        24.1        34.0\n",
       "U              13.0       8.7         0.0        22.2\n",
       "AFRO-AM        31.9      29.0        29.4        41.3\n",
       "AMER-IND       34.3      34.0        29.0        41.3\n",
       "ASIAN          22.3      17.9        25.6        31.8\n",
       "CAUCASN        23.2      21.1        23.4        27.7\n",
       "HAW/PAC        31.7      31.7        29.4        33.7\n",
       "NOT IND        23.8      22.7        20.7        30.3\n",
       "HISPANIC       27.5      26.3        25.6        32.5\n",
       "NOT IND        23.4      20.7        23.4        29.5\n",
       "non-resident   27.7      29.9        16.1        28.5\n",
       "resident       23.0      19.3        24.0        29.7"
      ]
     },
     "execution_count": 37,
     "metadata": {},
     "output_type": "execute_result"
    }
   ],
   "source": [
    "gradCounts = groupCountsGrad.append(genderCountsGrad.append(ethnicCountsGrad.append(hispanicCountsGrad.append(residentCountsGrad))))\n",
    "gradPcts = gradCounts / allCounts * 100 #combine all counts of graduates and compare to raw counts. Also convert to attrition rates\n",
    "gradPcts = 100 - gradPcts\n",
    "gradPcts.round(1) #single decimal place"
   ]
  },
  {
   "cell_type": "code",
   "execution_count": 38,
   "metadata": {
    "collapsed": false
   },
   "outputs": [
    {
     "data": {
      "text/html": [
       "<div>\n",
       "<table border=\"1\" class=\"dataframe\">\n",
       "  <thead>\n",
       "    <tr style=\"text-align: right;\">\n",
       "      <th>group</th>\n",
       "      <th>all</th>\n",
       "      <th>freshmen</th>\n",
       "      <th>2_yr_trans</th>\n",
       "      <th>4_yr_trans</th>\n",
       "      <th>fresh-2yr_diff</th>\n",
       "      <th>fresh-4yr_diff</th>\n",
       "      <th>2yr-4yr_diff</th>\n",
       "    </tr>\n",
       "    <tr>\n",
       "      <th>first_yr_tran</th>\n",
       "      <th></th>\n",
       "      <th></th>\n",
       "      <th></th>\n",
       "      <th></th>\n",
       "      <th></th>\n",
       "      <th></th>\n",
       "      <th></th>\n",
       "    </tr>\n",
       "  </thead>\n",
       "  <tbody>\n",
       "    <tr>\n",
       "      <th>1998.0</th>\n",
       "      <td>27.56</td>\n",
       "      <td>24.32</td>\n",
       "      <td>27.40</td>\n",
       "      <td>32.82</td>\n",
       "      <td>-3.07</td>\n",
       "      <td>-8.50</td>\n",
       "      <td>-5.43</td>\n",
       "    </tr>\n",
       "    <tr>\n",
       "      <th>1999.0</th>\n",
       "      <td>27.75</td>\n",
       "      <td>23.66</td>\n",
       "      <td>27.35</td>\n",
       "      <td>34.98</td>\n",
       "      <td>-3.69</td>\n",
       "      <td>-11.32</td>\n",
       "      <td>-7.63</td>\n",
       "    </tr>\n",
       "    <tr>\n",
       "      <th>2000.0</th>\n",
       "      <td>27.11</td>\n",
       "      <td>23.02</td>\n",
       "      <td>27.51</td>\n",
       "      <td>34.20</td>\n",
       "      <td>-4.49</td>\n",
       "      <td>-11.18</td>\n",
       "      <td>-6.70</td>\n",
       "    </tr>\n",
       "    <tr>\n",
       "      <th>2001.0</th>\n",
       "      <td>24.65</td>\n",
       "      <td>22.64</td>\n",
       "      <td>24.14</td>\n",
       "      <td>29.86</td>\n",
       "      <td>-1.50</td>\n",
       "      <td>-7.22</td>\n",
       "      <td>-5.72</td>\n",
       "    </tr>\n",
       "    <tr>\n",
       "      <th>2002.0</th>\n",
       "      <td>22.98</td>\n",
       "      <td>21.04</td>\n",
       "      <td>21.63</td>\n",
       "      <td>29.36</td>\n",
       "      <td>-0.59</td>\n",
       "      <td>-8.32</td>\n",
       "      <td>-7.73</td>\n",
       "    </tr>\n",
       "    <tr>\n",
       "      <th>2003.0</th>\n",
       "      <td>20.31</td>\n",
       "      <td>18.32</td>\n",
       "      <td>21.95</td>\n",
       "      <td>23.73</td>\n",
       "      <td>-3.63</td>\n",
       "      <td>-5.41</td>\n",
       "      <td>-1.78</td>\n",
       "    </tr>\n",
       "    <tr>\n",
       "      <th>2004.0</th>\n",
       "      <td>20.78</td>\n",
       "      <td>18.49</td>\n",
       "      <td>21.77</td>\n",
       "      <td>25.88</td>\n",
       "      <td>-3.28</td>\n",
       "      <td>-7.39</td>\n",
       "      <td>-4.11</td>\n",
       "    </tr>\n",
       "    <tr>\n",
       "      <th>2005.0</th>\n",
       "      <td>20.29</td>\n",
       "      <td>18.86</td>\n",
       "      <td>19.88</td>\n",
       "      <td>24.96</td>\n",
       "      <td>-1.02</td>\n",
       "      <td>-6.10</td>\n",
       "      <td>-5.08</td>\n",
       "    </tr>\n",
       "    <tr>\n",
       "      <th>2006.0</th>\n",
       "      <td>20.20</td>\n",
       "      <td>18.98</td>\n",
       "      <td>19.31</td>\n",
       "      <td>25.07</td>\n",
       "      <td>-0.33</td>\n",
       "      <td>-6.08</td>\n",
       "      <td>-5.75</td>\n",
       "    </tr>\n",
       "  </tbody>\n",
       "</table>\n",
       "</div>"
      ],
      "text/plain": [
       "group            all  freshmen  2_yr_trans  4_yr_trans  fresh-2yr_diff  \\\n",
       "first_yr_tran                                                            \n",
       "1998.0         27.56     24.32       27.40       32.82           -3.07   \n",
       "1999.0         27.75     23.66       27.35       34.98           -3.69   \n",
       "2000.0         27.11     23.02       27.51       34.20           -4.49   \n",
       "2001.0         24.65     22.64       24.14       29.86           -1.50   \n",
       "2002.0         22.98     21.04       21.63       29.36           -0.59   \n",
       "2003.0         20.31     18.32       21.95       23.73           -3.63   \n",
       "2004.0         20.78     18.49       21.77       25.88           -3.28   \n",
       "2005.0         20.29     18.86       19.88       24.96           -1.02   \n",
       "2006.0         20.20     18.98       19.31       25.07           -0.33   \n",
       "\n",
       "group          fresh-4yr_diff  2yr-4yr_diff  \n",
       "first_yr_tran                                \n",
       "1998.0                  -8.50         -5.43  \n",
       "1999.0                 -11.32         -7.63  \n",
       "2000.0                 -11.18         -6.70  \n",
       "2001.0                  -7.22         -5.72  \n",
       "2002.0                  -8.32         -7.73  \n",
       "2003.0                  -5.41         -1.78  \n",
       "2004.0                  -7.39         -4.11  \n",
       "2005.0                  -6.10         -5.08  \n",
       "2006.0                  -6.08         -5.75  "
      ]
     },
     "execution_count": 38,
     "metadata": {},
     "output_type": "execute_result"
    }
   ],
   "source": [
    "#this looks at attrition rates by cohort (year of first entry into the university)\n",
    "countsByYear = dataPre2007.groupby(['first_yr_tran', 'group'])['group'].count().unstack()\n",
    "countsByYear['all'] = dataPre2007.groupby(['first_yr_tran'])['group'].count()\n",
    "ratesByYear = dataPre2007[dataPre2007.trans_grad_on_time].groupby(['first_yr_tran', 'group'])['group'].count().unstack()\n",
    "ratesByYear['all'] = dataPre2007[dataPre2007.trans_grad_on_time].groupby(['first_yr_tran'])['group'].count()\n",
    "ratesByYear = 100 - ((ratesByYear / countsByYear) * 100) #convert to attrition rate\n",
    "ratesByYear = ratesByYear[colOrder2]\n",
    "\n",
    "ratesByYear['fresh-2yr_diff'] = ratesByYear.freshmen - ratesByYear['2_yr_trans'] #calculate rate differences by group\n",
    "ratesByYear['fresh-4yr_diff'] = ratesByYear.freshmen - ratesByYear['4_yr_trans']\n",
    "ratesByYear['2yr-4yr_diff'] = ratesByYear['2_yr_trans'] - ratesByYear['4_yr_trans']\n",
    "ratesByYear.round(2)"
   ]
  },
  {
   "cell_type": "code",
   "execution_count": 39,
   "metadata": {
    "collapsed": false
   },
   "outputs": [
    {
     "data": {
      "text/plain": [
       "group\n",
       "fresh-2yr_diff    -3.749870\n",
       "fresh-4yr_diff   -10.336337\n",
       "2yr-4yr_diff      -6.586467\n",
       "dtype: float64"
      ]
     },
     "execution_count": 39,
     "metadata": {},
     "output_type": "execute_result"
    }
   ],
   "source": [
    "#look at the average difference between the groups for the first three and last three cohorts\n",
    "averageDiffFirstThreeYears = ratesByYear.iloc[:3,-3:].mean()\n",
    "averageDiffFirstThreeYears"
   ]
  },
  {
   "cell_type": "code",
   "execution_count": 40,
   "metadata": {
    "collapsed": false
   },
   "outputs": [
    {
     "data": {
      "text/plain": [
       "group\n",
       "fresh-2yr_diff   -1.545134\n",
       "fresh-4yr_diff   -6.527132\n",
       "2yr-4yr_diff     -4.981998\n",
       "dtype: float64"
      ]
     },
     "execution_count": 40,
     "metadata": {},
     "output_type": "execute_result"
    }
   ],
   "source": [
    "averageDiffLastThreeYears = ratesByYear.iloc[-3:,-3:].mean()\n",
    "averageDiffLastThreeYears"
   ]
  },
  {
   "cell_type": "markdown",
   "metadata": {},
   "source": [
    "### Look at the number of quarters enrolled"
   ]
  },
  {
   "cell_type": "code",
   "execution_count": 41,
   "metadata": {
    "collapsed": false
   },
   "outputs": [
    {
     "data": {
      "text/html": [
       "<div>\n",
       "<table border=\"1\" class=\"dataframe\">\n",
       "  <thead>\n",
       "    <tr style=\"text-align: right;\">\n",
       "      <th></th>\n",
       "      <th>group</th>\n",
       "      <th>2_yr_trans</th>\n",
       "      <th>4_yr_trans</th>\n",
       "      <th>freshmen</th>\n",
       "    </tr>\n",
       "    <tr>\n",
       "      <th></th>\n",
       "      <th>trans_grad_on_time</th>\n",
       "      <th></th>\n",
       "      <th></th>\n",
       "      <th></th>\n",
       "    </tr>\n",
       "  </thead>\n",
       "  <tbody>\n",
       "    <tr>\n",
       "      <th rowspan=\"2\" valign=\"top\">mean</th>\n",
       "      <th>False</th>\n",
       "      <td>5.79</td>\n",
       "      <td>9.84</td>\n",
       "      <td>6.80</td>\n",
       "    </tr>\n",
       "    <tr>\n",
       "      <th>True</th>\n",
       "      <td>8.31</td>\n",
       "      <td>10.87</td>\n",
       "      <td>13.48</td>\n",
       "    </tr>\n",
       "    <tr>\n",
       "      <th rowspan=\"2\" valign=\"top\">median</th>\n",
       "      <th>False</th>\n",
       "      <td>4.00</td>\n",
       "      <td>9.00</td>\n",
       "      <td>5.00</td>\n",
       "    </tr>\n",
       "    <tr>\n",
       "      <th>True</th>\n",
       "      <td>8.00</td>\n",
       "      <td>11.00</td>\n",
       "      <td>13.00</td>\n",
       "    </tr>\n",
       "    <tr>\n",
       "      <th rowspan=\"2\" valign=\"top\">std</th>\n",
       "      <th>False</th>\n",
       "      <td>4.87</td>\n",
       "      <td>6.10</td>\n",
       "      <td>5.33</td>\n",
       "    </tr>\n",
       "    <tr>\n",
       "      <th>True</th>\n",
       "      <td>2.33</td>\n",
       "      <td>3.50</td>\n",
       "      <td>2.21</td>\n",
       "    </tr>\n",
       "  </tbody>\n",
       "</table>\n",
       "</div>"
      ],
      "text/plain": [
       "group                      2_yr_trans  4_yr_trans  freshmen\n",
       "       trans_grad_on_time                                  \n",
       "mean   False                     5.79        9.84      6.80\n",
       "       True                      8.31       10.87     13.48\n",
       "median False                     4.00        9.00      5.00\n",
       "       True                      8.00       11.00     13.00\n",
       "std    False                     4.87        6.10      5.33\n",
       "       True                      2.33        3.50      2.21"
      ]
     },
     "execution_count": 41,
     "metadata": {},
     "output_type": "execute_result"
    }
   ],
   "source": [
    "#look at the number of quarters enrolled by graduating status (trans_grad_on_time = whether student is a graduate or not)\n",
    "numQtrsEnrolled = dataPre2007.groupby(['group', 'trans_grad_on_time'])['num_qtrs_tran'].agg(['mean', 'median', 'std'])\n",
    "numQtrsEnrolled = numQtrsEnrolled.unstack().transpose()\n",
    "numQtrsEnrolled.round(2)"
   ]
  },
  {
   "cell_type": "code",
   "execution_count": 42,
   "metadata": {
    "collapsed": false
   },
   "outputs": [
    {
     "data": {
      "text/plain": [
       "16.5929203539823"
      ]
     },
     "execution_count": 42,
     "metadata": {},
     "output_type": "execute_result"
    }
   ],
   "source": [
    "#looking at the %age of students who enrolled for exactly three quarters and left the university\n",
    "float(len(ncData[ncData.num_qtrs_tran == 3])) / len(ncData) * 100"
   ]
  },
  {
   "cell_type": "code",
   "execution_count": 43,
   "metadata": {
    "collapsed": false
   },
   "outputs": [],
   "source": [
    "#get counts of non-completions by group\n",
    "ncCounts = ncData.groupby(['group'])['group'].count()\n",
    "ncCounts['total'] = ncCounts.sum()\n",
    "ncCounts = ncCounts.to_frame().transpose()[colOrder]\n",
    "ncCounts.index = ['all']"
   ]
  },
  {
   "cell_type": "code",
   "execution_count": 44,
   "metadata": {
    "collapsed": false
   },
   "outputs": [
    {
     "data": {
      "text/html": [
       "<div>\n",
       "<table border=\"1\" class=\"dataframe\">\n",
       "  <thead>\n",
       "    <tr style=\"text-align: right;\">\n",
       "      <th>group</th>\n",
       "      <th>total</th>\n",
       "      <th>freshmen</th>\n",
       "      <th>2_yr_trans</th>\n",
       "      <th>4_yr_trans</th>\n",
       "    </tr>\n",
       "  </thead>\n",
       "  <tbody>\n",
       "    <tr>\n",
       "      <th>all</th>\n",
       "      <td>34.4</td>\n",
       "      <td>37.4</td>\n",
       "      <td>45.4</td>\n",
       "      <td>19.7</td>\n",
       "    </tr>\n",
       "  </tbody>\n",
       "</table>\n",
       "</div>"
      ],
      "text/plain": [
       "group  total  freshmen  2_yr_trans  4_yr_trans\n",
       "all     34.4      37.4        45.4        19.7"
      ]
     },
     "execution_count": 44,
     "metadata": {},
     "output_type": "execute_result"
    }
   ],
   "source": [
    "#look at students who attrite in their first year\n",
    "yearOneDrops = ncData[ncData.num_qtrs_tran < 4]\n",
    "propYearOneDrops = yearOneDrops.groupby(['group'])['group'].count()\n",
    "propYearOneDrops['total'] = propYearOneDrops.sum()\n",
    "propYearOneDrops = propYearOneDrops.to_frame().transpose()[colOrder]\n",
    "propYearOneDrops.index = ['all']\n",
    "propYearOneDrops = propYearOneDrops / ncCounts * 100\n",
    "propYearOneDrops.round(1)"
   ]
  },
  {
   "cell_type": "code",
   "execution_count": 45,
   "metadata": {
    "collapsed": false
   },
   "outputs": [
    {
     "data": {
      "text/html": [
       "<div>\n",
       "<table border=\"1\" class=\"dataframe\">\n",
       "  <thead>\n",
       "    <tr style=\"text-align: right;\">\n",
       "      <th>group</th>\n",
       "      <th>total</th>\n",
       "      <th>freshmen</th>\n",
       "      <th>2_yr_trans</th>\n",
       "      <th>4_yr_trans</th>\n",
       "    </tr>\n",
       "  </thead>\n",
       "  <tbody>\n",
       "    <tr>\n",
       "      <th>all</th>\n",
       "      <td>31.9</td>\n",
       "      <td>36.9</td>\n",
       "      <td>40.9</td>\n",
       "      <td>15.7</td>\n",
       "    </tr>\n",
       "  </tbody>\n",
       "</table>\n",
       "</div>"
      ],
      "text/plain": [
       "group  total  freshmen  2_yr_trans  4_yr_trans\n",
       "all     31.9      36.9        40.9        15.7"
      ]
     },
     "execution_count": 45,
     "metadata": {},
     "output_type": "execute_result"
    }
   ],
   "source": [
    "#look at the same but students who attrite in their first calendar year (above was academic year)\n",
    "yearOneDrops = ncData[ncData.total_time_in_qtrs < 4]\n",
    "propYearOneDrops = yearOneDrops.groupby(['group'])['group'].count()\n",
    "propYearOneDrops['total'] = propYearOneDrops.sum()\n",
    "propYearOneDrops = propYearOneDrops.to_frame().transpose()[colOrder]\n",
    "propYearOneDrops.index = ['all']\n",
    "propYearOneDrops = propYearOneDrops / ncCounts * 100\n",
    "propYearOneDrops.round(1)"
   ]
  },
  {
   "cell_type": "markdown",
   "metadata": {},
   "source": [
    "### Look at student grades"
   ]
  },
  {
   "cell_type": "code",
   "execution_count": 46,
   "metadata": {
    "collapsed": false
   },
   "outputs": [],
   "source": [
    "#get 25th and 7th percentiles for all students and each group\n",
    "hold = dataPre2007['overall_gpa'].quantile([0.25, 0.75]) #get 25th and 75th percentiles\n",
    "hold.index.names = ['percentile']\n",
    "percentiles = dataPre2007.groupby(['group'])['overall_gpa'].quantile([0.25, 0.75])\n",
    "percentiles.index.names = ['group', 'percentile']\n",
    "percentiles = percentiles.reorder_levels(['percentile', 'group']).unstack()\n",
    "percentiles['all'] = hold"
   ]
  },
  {
   "cell_type": "code",
   "execution_count": 47,
   "metadata": {
    "collapsed": false
   },
   "outputs": [
    {
     "data": {
      "text/html": [
       "<div>\n",
       "<table border=\"1\" class=\"dataframe\">\n",
       "  <thead>\n",
       "    <tr style=\"text-align: right;\">\n",
       "      <th></th>\n",
       "      <th>all</th>\n",
       "      <th>freshmen</th>\n",
       "      <th>2_yr_trans</th>\n",
       "      <th>4_yr_trans</th>\n",
       "    </tr>\n",
       "    <tr>\n",
       "      <th>GPA</th>\n",
       "      <th></th>\n",
       "      <th></th>\n",
       "      <th></th>\n",
       "      <th></th>\n",
       "    </tr>\n",
       "  </thead>\n",
       "  <tbody>\n",
       "    <tr>\n",
       "      <th>mean</th>\n",
       "      <td>3.14</td>\n",
       "      <td>3.12</td>\n",
       "      <td>3.10</td>\n",
       "      <td>3.22</td>\n",
       "    </tr>\n",
       "    <tr>\n",
       "      <th>median</th>\n",
       "      <td>3.26</td>\n",
       "      <td>3.24</td>\n",
       "      <td>3.21</td>\n",
       "      <td>3.35</td>\n",
       "    </tr>\n",
       "    <tr>\n",
       "      <th>std</th>\n",
       "      <td>0.56</td>\n",
       "      <td>0.56</td>\n",
       "      <td>0.58</td>\n",
       "      <td>0.55</td>\n",
       "    </tr>\n",
       "    <tr>\n",
       "      <th>0.25</th>\n",
       "      <td>2.89</td>\n",
       "      <td>2.88</td>\n",
       "      <td>2.84</td>\n",
       "      <td>2.97</td>\n",
       "    </tr>\n",
       "    <tr>\n",
       "      <th>0.75</th>\n",
       "      <td>3.53</td>\n",
       "      <td>3.50</td>\n",
       "      <td>3.49</td>\n",
       "      <td>3.61</td>\n",
       "    </tr>\n",
       "  </tbody>\n",
       "</table>\n",
       "</div>"
      ],
      "text/plain": [
       "         all  freshmen  2_yr_trans  4_yr_trans\n",
       "GPA                                           \n",
       "mean    3.14      3.12        3.10        3.22\n",
       "median  3.26      3.24        3.21        3.35\n",
       "std     0.56      0.56        0.58        0.55\n",
       "0.25    2.89      2.88        2.84        2.97\n",
       "0.75    3.53      3.50        3.49        3.61"
      ]
     },
     "execution_count": 47,
     "metadata": {},
     "output_type": "execute_result"
    }
   ],
   "source": [
    "#then look at all GPAs at aggregate\n",
    "hold = pd.DataFrame({'mean':dataPre2007['overall_gpa'].mean(), \n",
    "                     'std':dataPre2007['overall_gpa'].std(),\n",
    "                    'median':dataPre2007['overall_gpa'].median()},\n",
    "                    index = ['all'])\n",
    "gpasAll = hold.append(dataPre2007.groupby(['group'])['overall_gpa'].agg([np.mean, np.std, np.median])).transpose()[colOrder2]\n",
    "gpasAll = gpasAll.append(percentiles)\n",
    "gpasAll.index.name = 'GPA'\n",
    "gpasAll = gpasAll[colOrder2]\n",
    "gpasAll.round(2)"
   ]
  },
  {
   "cell_type": "code",
   "execution_count": 48,
   "metadata": {
    "collapsed": false
   },
   "outputs": [],
   "source": [
    "#look at differences by group\n",
    "hold = dataPre2007.groupby(['trans_grad_on_time'])['overall_gpa'].quantile([0.25, 0.75]) #get 25th and 75th percentiles\n",
    "hold.index.names = ['trans_grad_on_time', 'percentile']\n",
    "hold = hold.reorder_levels(['percentile', 'trans_grad_on_time'])\n",
    "percentiles = dataPre2007.groupby(['group', 'trans_grad_on_time'])['overall_gpa'].quantile([0.25, 0.75])\n",
    "percentiles.index.names = ['group', 'trans_grad_on_time', 'percentile']\n",
    "percentiles = percentiles.reorder_levels(['percentile', 'trans_grad_on_time', 'group']).unstack()\n",
    "percentiles['all'] = hold"
   ]
  },
  {
   "cell_type": "code",
   "execution_count": 49,
   "metadata": {
    "collapsed": false
   },
   "outputs": [
    {
     "data": {
      "text/html": [
       "<div>\n",
       "<table border=\"1\" class=\"dataframe\">\n",
       "  <thead>\n",
       "    <tr style=\"text-align: right;\">\n",
       "      <th></th>\n",
       "      <th>group</th>\n",
       "      <th>all</th>\n",
       "      <th>freshmen</th>\n",
       "      <th>2_yr_trans</th>\n",
       "      <th>4_yr_trans</th>\n",
       "    </tr>\n",
       "    <tr>\n",
       "      <th></th>\n",
       "      <th>trans_grad_on_time</th>\n",
       "      <th></th>\n",
       "      <th></th>\n",
       "      <th></th>\n",
       "      <th></th>\n",
       "    </tr>\n",
       "  </thead>\n",
       "  <tbody>\n",
       "    <tr>\n",
       "      <th rowspan=\"2\" valign=\"top\">mean</th>\n",
       "      <th>False</th>\n",
       "      <td>2.64</td>\n",
       "      <td>2.57</td>\n",
       "      <td>2.59</td>\n",
       "      <td>2.81</td>\n",
       "    </tr>\n",
       "    <tr>\n",
       "      <th>True</th>\n",
       "      <td>3.29</td>\n",
       "      <td>3.27</td>\n",
       "      <td>3.25</td>\n",
       "      <td>3.39</td>\n",
       "    </tr>\n",
       "    <tr>\n",
       "      <th rowspan=\"2\" valign=\"top\">std</th>\n",
       "      <th>False</th>\n",
       "      <td>0.77</td>\n",
       "      <td>0.78</td>\n",
       "      <td>0.81</td>\n",
       "      <td>0.68</td>\n",
       "    </tr>\n",
       "    <tr>\n",
       "      <th>True</th>\n",
       "      <td>0.38</td>\n",
       "      <td>0.37</td>\n",
       "      <td>0.39</td>\n",
       "      <td>0.36</td>\n",
       "    </tr>\n",
       "    <tr>\n",
       "      <th rowspan=\"2\" valign=\"top\">median</th>\n",
       "      <th>False</th>\n",
       "      <td>2.74</td>\n",
       "      <td>2.65</td>\n",
       "      <td>2.70</td>\n",
       "      <td>2.89</td>\n",
       "    </tr>\n",
       "    <tr>\n",
       "      <th>True</th>\n",
       "      <td>3.33</td>\n",
       "      <td>3.31</td>\n",
       "      <td>3.29</td>\n",
       "      <td>3.45</td>\n",
       "    </tr>\n",
       "    <tr>\n",
       "      <th rowspan=\"2\" valign=\"top\">0.25</th>\n",
       "      <th>False</th>\n",
       "      <td>2.17</td>\n",
       "      <td>2.06</td>\n",
       "      <td>2.12</td>\n",
       "      <td>2.38</td>\n",
       "    </tr>\n",
       "    <tr>\n",
       "      <th>True</th>\n",
       "      <td>3.05</td>\n",
       "      <td>3.04</td>\n",
       "      <td>3.00</td>\n",
       "      <td>3.18</td>\n",
       "    </tr>\n",
       "    <tr>\n",
       "      <th rowspan=\"2\" valign=\"top\">0.75</th>\n",
       "      <th>False</th>\n",
       "      <td>3.22</td>\n",
       "      <td>3.17</td>\n",
       "      <td>3.20</td>\n",
       "      <td>3.31</td>\n",
       "    </tr>\n",
       "    <tr>\n",
       "      <th>True</th>\n",
       "      <td>3.57</td>\n",
       "      <td>3.54</td>\n",
       "      <td>3.53</td>\n",
       "      <td>3.66</td>\n",
       "    </tr>\n",
       "  </tbody>\n",
       "</table>\n",
       "</div>"
      ],
      "text/plain": [
       "group                       all  freshmen  2_yr_trans  4_yr_trans\n",
       "       trans_grad_on_time                                        \n",
       "mean   False               2.64      2.57        2.59        2.81\n",
       "       True                3.29      3.27        3.25        3.39\n",
       "std    False               0.77      0.78        0.81        0.68\n",
       "       True                0.38      0.37        0.39        0.36\n",
       "median False               2.74      2.65        2.70        2.89\n",
       "       True                3.33      3.31        3.29        3.45\n",
       "0.25   False               2.17      2.06        2.12        2.38\n",
       "       True                3.05      3.04        3.00        3.18\n",
       "0.75   False               3.22      3.17        3.20        3.31\n",
       "       True                3.57      3.54        3.53        3.66"
      ]
     },
     "execution_count": 49,
     "metadata": {},
     "output_type": "execute_result"
    }
   ],
   "source": [
    "#then get mean, std, and median\n",
    "hold = dataPre2007.groupby(['trans_grad_on_time'])['overall_gpa'].agg([np.mean, np.std, np.median]).stack().swaplevel(i=-2, j=-1)\n",
    "gpasAll = dataPre2007.groupby(['group', 'trans_grad_on_time'])['overall_gpa'].agg([np.mean, np.std, np.median])\n",
    "gpasAll = gpasAll.unstack().transpose()\n",
    "gpasAll['all'] = hold\n",
    "gpasAll = gpasAll.append(percentiles) #add percentiles\n",
    "gpasAll = gpasAll[colOrder2] \n",
    "\n",
    "gpasAll.round(2)"
   ]
  },
  {
   "cell_type": "markdown",
   "metadata": {},
   "source": [
    "### Transfer shock\n",
    "\n",
    "Next, look at student differences after their 1st, 2nd, and 3rd terms of enrollment."
   ]
  },
  {
   "cell_type": "code",
   "execution_count": 50,
   "metadata": {
    "collapsed": false
   },
   "outputs": [],
   "source": [
    "pre1stQtr = dataPre2007[dataPre2007.first_qtr_cr > 11] #include only full-time enrollees in first qtr\n",
    "pre1stQtr = pre1stQtr[pre1stQtr.post_first_qtr_cr > 11] #include only students who enrolled for at least credit total equaling a subsequent full-time term\n",
    "pre1stQtrCounts = pre1stQtr.groupby(['group'])['group'].count()\n",
    "pre1stQtrCounts.loc['all'] = len(pre1stQtr)\n",
    "pre1stQtrCounts = pre1stQtrCounts.transpose()\n",
    "pre1stQtrHold = pd.DataFrame({'mean':pre1stQtr[['first_qtr_gpa', 'post_first_qtr_gpa']].mean(), \n",
    "                              'std':pre1stQtr[['first_qtr_gpa', 'post_first_qtr_gpa']].std()}, \n",
    "                             index = ['first_qtr_gpa', 'post_first_qtr_gpa']).stack()"
   ]
  },
  {
   "cell_type": "code",
   "execution_count": 51,
   "metadata": {
    "collapsed": false
   },
   "outputs": [],
   "source": [
    "#get data for each group\n",
    "pre1stQtr = pre1stQtr.groupby(['group'])['first_qtr_gpa', 'post_first_qtr_gpa'].agg(['mean', 'std']).transpose()\n",
    "pre1stQtr['all'] = pre1stQtrHold\n",
    "pre1stQtr = pre1stQtr[colOrder2].unstack()"
   ]
  },
  {
   "cell_type": "code",
   "execution_count": 52,
   "metadata": {
    "collapsed": false
   },
   "outputs": [],
   "source": [
    "pre2ndQtr = dataPre2007[dataPre2007.first_two_qtr_cr > 23] #repeat above. Students who averaged full-time enrollment\n",
    "pre2ndQtr = pre2ndQtr[pre2ndQtr.post_sec_qtr_cr > 11] #and had at least a full-term worth of subsequent credits\n",
    "pre2ndQtrCounts = pre2ndQtr.groupby(['group'])['group'].count()\n",
    "pre2ndQtrCounts.loc['all'] = len(pre2ndQtr)\n",
    "pre2ndQtrCounts = pre2ndQtrCounts.transpose()\n",
    "pre2ndQtrHold = pd.DataFrame({'mean':pre2ndQtr[['first_two_qtr_gpa', 'post_sec_qtr_gpa']].mean(), \n",
    "                              'std':pre2ndQtr[['first_two_qtr_gpa', 'post_sec_qtr_gpa']].std()}, \n",
    "                             index = ['first_two_qtr_gpa', 'post_sec_qtr_gpa']).stack()"
   ]
  },
  {
   "cell_type": "code",
   "execution_count": 53,
   "metadata": {
    "collapsed": false
   },
   "outputs": [],
   "source": [
    "pre2ndQtr = pre2ndQtr.groupby(['group'])['first_two_qtr_gpa', 'post_sec_qtr_gpa'].agg(['mean', 'std']).transpose()\n",
    "pre2ndQtr['all'] = pre2ndQtrHold\n",
    "pre2ndQtr = pre2ndQtr[colOrder2].unstack()"
   ]
  },
  {
   "cell_type": "code",
   "execution_count": 54,
   "metadata": {
    "collapsed": false
   },
   "outputs": [],
   "source": [
    "pre3rdQtr = dataPre2007[dataPre2007.first_thr_qtr_cr > 35] #same as above only for first three quarters\n",
    "pre3rdQtr = pre3rdQtr[pre3rdQtr.post_trd_qtr_cr > 11]\n",
    "pre3rdQtrCounts = pre3rdQtr.groupby(['group'])['group'].count()\n",
    "pre3rdQtrCounts.loc['all'] = len(pre3rdQtr)\n",
    "pre3rdQtrCounts = pre3rdQtrCounts.transpose()\n",
    "pre3rdQtrHold = pd.DataFrame({'mean':pre3rdQtr[['first_thr_qtr_gpa', 'post_trd_qtr_gpa']].mean(), \n",
    "                              'std':pre3rdQtr[['first_thr_qtr_gpa', 'post_trd_qtr_gpa']].std()}, \n",
    "                             index = ['first_thr_qtr_gpa', 'post_trd_qtr_gpa']).stack()"
   ]
  },
  {
   "cell_type": "code",
   "execution_count": 55,
   "metadata": {
    "collapsed": false
   },
   "outputs": [],
   "source": [
    "pre3rdQtr = pre3rdQtr.groupby(['group'])['first_thr_qtr_gpa', 'post_trd_qtr_gpa'].agg(['mean', 'std']).transpose()\n",
    "pre3rdQtr['all'] = pre3rdQtrHold\n",
    "pre3rdQtr = pre3rdQtr[colOrder2].unstack()"
   ]
  },
  {
   "cell_type": "code",
   "execution_count": 56,
   "metadata": {
    "collapsed": false
   },
   "outputs": [
    {
     "data": {
      "text/html": [
       "<div>\n",
       "<table border=\"1\" class=\"dataframe\">\n",
       "  <thead>\n",
       "    <tr>\n",
       "      <th>group</th>\n",
       "      <th colspan=\"2\" halign=\"left\">all</th>\n",
       "      <th colspan=\"2\" halign=\"left\">freshmen</th>\n",
       "      <th colspan=\"2\" halign=\"left\">2_yr_trans</th>\n",
       "      <th colspan=\"2\" halign=\"left\">4_yr_trans</th>\n",
       "    </tr>\n",
       "    <tr>\n",
       "      <th></th>\n",
       "      <th>mean</th>\n",
       "      <th>std</th>\n",
       "      <th>mean</th>\n",
       "      <th>std</th>\n",
       "      <th>mean</th>\n",
       "      <th>std</th>\n",
       "      <th>mean</th>\n",
       "      <th>std</th>\n",
       "    </tr>\n",
       "  </thead>\n",
       "  <tbody>\n",
       "    <tr>\n",
       "      <th>first_qtr_gpa</th>\n",
       "      <td>3.206</td>\n",
       "      <td>0.560</td>\n",
       "      <td>3.192</td>\n",
       "      <td>0.558</td>\n",
       "      <td>3.174</td>\n",
       "      <td>0.556</td>\n",
       "      <td>3.275</td>\n",
       "      <td>0.565</td>\n",
       "    </tr>\n",
       "    <tr>\n",
       "      <th>post_first_qtr_gpa</th>\n",
       "      <td>3.194</td>\n",
       "      <td>0.525</td>\n",
       "      <td>3.178</td>\n",
       "      <td>0.529</td>\n",
       "      <td>3.157</td>\n",
       "      <td>0.526</td>\n",
       "      <td>3.269</td>\n",
       "      <td>0.507</td>\n",
       "    </tr>\n",
       "    <tr>\n",
       "      <th>first_two_qtr_gpa</th>\n",
       "      <td>3.186</td>\n",
       "      <td>0.512</td>\n",
       "      <td>3.169</td>\n",
       "      <td>0.504</td>\n",
       "      <td>3.160</td>\n",
       "      <td>0.511</td>\n",
       "      <td>3.254</td>\n",
       "      <td>0.526</td>\n",
       "    </tr>\n",
       "    <tr>\n",
       "      <th>post_sec_qtr_gpa</th>\n",
       "      <td>3.195</td>\n",
       "      <td>0.527</td>\n",
       "      <td>3.176</td>\n",
       "      <td>0.531</td>\n",
       "      <td>3.175</td>\n",
       "      <td>0.518</td>\n",
       "      <td>3.266</td>\n",
       "      <td>0.516</td>\n",
       "    </tr>\n",
       "    <tr>\n",
       "      <th>first_thr_qtr_gpa</th>\n",
       "      <td>3.208</td>\n",
       "      <td>0.466</td>\n",
       "      <td>3.196</td>\n",
       "      <td>0.454</td>\n",
       "      <td>3.180</td>\n",
       "      <td>0.465</td>\n",
       "      <td>3.266</td>\n",
       "      <td>0.494</td>\n",
       "    </tr>\n",
       "    <tr>\n",
       "      <th>post_trd_qtr_gpa</th>\n",
       "      <td>3.223</td>\n",
       "      <td>0.506</td>\n",
       "      <td>3.207</td>\n",
       "      <td>0.504</td>\n",
       "      <td>3.206</td>\n",
       "      <td>0.502</td>\n",
       "      <td>3.284</td>\n",
       "      <td>0.512</td>\n",
       "    </tr>\n",
       "  </tbody>\n",
       "</table>\n",
       "</div>"
      ],
      "text/plain": [
       "group                 all        freshmen        2_yr_trans        4_yr_trans  \\\n",
       "                     mean    std     mean    std       mean    std       mean   \n",
       "first_qtr_gpa       3.206  0.560    3.192  0.558      3.174  0.556      3.275   \n",
       "post_first_qtr_gpa  3.194  0.525    3.178  0.529      3.157  0.526      3.269   \n",
       "first_two_qtr_gpa   3.186  0.512    3.169  0.504      3.160  0.511      3.254   \n",
       "post_sec_qtr_gpa    3.195  0.527    3.176  0.531      3.175  0.518      3.266   \n",
       "first_thr_qtr_gpa   3.208  0.466    3.196  0.454      3.180  0.465      3.266   \n",
       "post_trd_qtr_gpa    3.223  0.506    3.207  0.504      3.206  0.502      3.284   \n",
       "\n",
       "group                      \n",
       "                      std  \n",
       "first_qtr_gpa       0.565  \n",
       "post_first_qtr_gpa  0.507  \n",
       "first_two_qtr_gpa   0.526  \n",
       "post_sec_qtr_gpa    0.516  \n",
       "first_thr_qtr_gpa   0.494  \n",
       "post_trd_qtr_gpa    0.512  "
      ]
     },
     "execution_count": 56,
     "metadata": {},
     "output_type": "execute_result"
    }
   ],
   "source": [
    "pre1stQtr.append(pre2ndQtr.append(pre3rdQtr)).round(3)"
   ]
  },
  {
   "cell_type": "code",
   "execution_count": 57,
   "metadata": {
    "collapsed": false
   },
   "outputs": [
    {
     "data": {
      "text/html": [
       "<div>\n",
       "<table border=\"1\" class=\"dataframe\">\n",
       "  <thead>\n",
       "    <tr style=\"text-align: right;\">\n",
       "      <th>group</th>\n",
       "      <th>all</th>\n",
       "      <th>freshmen</th>\n",
       "      <th>2_yr_trans</th>\n",
       "      <th>4_yr_trans</th>\n",
       "    </tr>\n",
       "  </thead>\n",
       "  <tbody>\n",
       "    <tr>\n",
       "      <th>1st_qtr</th>\n",
       "      <td>47748</td>\n",
       "      <td>26300</td>\n",
       "      <td>10752</td>\n",
       "      <td>10696</td>\n",
       "    </tr>\n",
       "    <tr>\n",
       "      <th>2nd_qtr</th>\n",
       "      <td>54400</td>\n",
       "      <td>31530</td>\n",
       "      <td>11060</td>\n",
       "      <td>11810</td>\n",
       "    </tr>\n",
       "    <tr>\n",
       "      <th>3rd_qtr</th>\n",
       "      <td>51116</td>\n",
       "      <td>29745</td>\n",
       "      <td>10279</td>\n",
       "      <td>11092</td>\n",
       "    </tr>\n",
       "  </tbody>\n",
       "</table>\n",
       "</div>"
      ],
      "text/plain": [
       "group      all  freshmen  2_yr_trans  4_yr_trans\n",
       "1st_qtr  47748     26300       10752       10696\n",
       "2nd_qtr  54400     31530       11060       11810\n",
       "3rd_qtr  51116     29745       10279       11092"
      ]
     },
     "execution_count": 57,
     "metadata": {},
     "output_type": "execute_result"
    }
   ],
   "source": [
    "#counts of students\n",
    "pd.DataFrame({'1st_qtr': pre1stQtrCounts, '2nd_qtr': pre2ndQtrCounts, '3rd_qtr': pre3rdQtrCounts}).transpose()[colOrder2]"
   ]
  }
 ],
 "metadata": {
  "kernelspec": {
   "display_name": "Python 2",
   "language": "python",
   "name": "python2"
  },
  "language_info": {
   "codemirror_mode": {
    "name": "ipython",
    "version": 2
   },
   "file_extension": ".py",
   "mimetype": "text/x-python",
   "name": "python",
   "nbconvert_exporter": "python",
   "pygments_lexer": "ipython2",
   "version": "2.7.11"
  }
 },
 "nbformat": 4,
 "nbformat_minor": 0
}
